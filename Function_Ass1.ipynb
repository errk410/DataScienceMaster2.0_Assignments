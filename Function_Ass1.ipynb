{
  "nbformat": 4,
  "nbformat_minor": 0,
  "metadata": {
    "colab": {
      "provenance": []
    },
    "kernelspec": {
      "name": "python3",
      "display_name": "Python 3"
    },
    "language_info": {
      "name": "python"
    }
  },
  "cells": [
    {
      "cell_type": "markdown",
      "source": [
        "**Q1. Which keyword is used to create a function? Create a function to return a list of odd numbers in the\n",
        "range of 1 to 25.**"
      ],
      "metadata": {
        "id": "NUdCNcnN68qh"
      }
    },
    {
      "cell_type": "markdown",
      "source": [
        "**Ans:** Keyword used to create a function is \"def\". Function enhances the reusability of the code."
      ],
      "metadata": {
        "id": "KcYvBMfp7hdo"
      }
    },
    {
      "cell_type": "code",
      "execution_count": null,
      "metadata": {
        "id": "8bwnA7qO5wNR",
        "colab": {
          "base_uri": "https://localhost:8080/"
        },
        "outputId": "949a6d74-f60c-4468-d8fc-21105d45032a"
      },
      "outputs": [
        {
          "output_type": "stream",
          "name": "stdout",
          "text": [
            "[1, 3, 5, 7, 9, 11, 13, 15, 17, 19, 21, 23]\n"
          ]
        }
      ],
      "source": [
        "def numbers():\n",
        "  odd_numbers = []\n",
        "  for i in range(1,25):\n",
        "    if i % 2 != 0:\n",
        "      odd_numbers.append(i)\n",
        "  return odd_numbers\n",
        "\n",
        "# print odd numbers\n",
        "odd_numbers_list = numbers()\n",
        "print(odd_numbers_list)\n"
      ]
    },
    {
      "cell_type": "markdown",
      "source": [
        "**Q2. Why * args and ** kwargs is used in some functions? Create a function each for * args and ** kwargs to demonstrate their use.**"
      ],
      "metadata": {
        "id": "wXEFGEXGNNHj"
      }
    },
    {
      "cell_type": "markdown",
      "source": [
        "**Ans:**  \n",
        "***args (Arbitrary Arguments):**\n",
        "1. *args is used when we want to pass a variable number of non-keyword arguments to a function.\n",
        "2. It allows us to pass any number of positional arguments to the function, and these arguments are collected into a **tuple** within the function.\n",
        "3. We can use any name in place of args, but the **'*'** symbol is important to indicate that it's for collecting positional arguments. We can collect n no of arguments.\n",
        "\n",
        "***kwargs (Arbitrary Keyword Arguments):**\n",
        "1. **kwargs is used when we want to pass a variable number of keyword arguments (i.e., arguments with names) to a function.\n",
        "2. It allows us to pass any number of keyword arguments to the function, and these arguments are collected into a **dictionary** within the function.\n",
        "3. We can use any name in place of kwargs, but the ** symbol is important to indicate that it's for collecting keyword arguments."
      ],
      "metadata": {
        "id": "pP0GkMCpNg-D"
      }
    },
    {
      "cell_type": "code",
      "source": [
        "def test(*args):\n",
        "  return args\n"
      ],
      "metadata": {
        "id": "YWpVnkCO9rB_"
      },
      "execution_count": null,
      "outputs": []
    },
    {
      "cell_type": "code",
      "source": [
        "test(\"rk\", 4, 10, 39.5, [2,4,6])"
      ],
      "metadata": {
        "colab": {
          "base_uri": "https://localhost:8080/"
        },
        "id": "gYmJsZa0VwL7",
        "outputId": "f28adcb6-9478-4967-9788-d2ffaf28cbcd"
      },
      "execution_count": null,
      "outputs": [
        {
          "output_type": "execute_result",
          "data": {
            "text/plain": [
              "('rk', 4, 10, 39.5, [2, 4, 6])"
            ]
          },
          "metadata": {},
          "execution_count": 8
        }
      ]
    },
    {
      "cell_type": "code",
      "execution_count": null,
      "metadata": {
        "id": "24f8e371-cde4-433d-aeae-697ea7ccc680"
      },
      "outputs": [],
      "source": [
        "def test1(*rk) :   # instead of args we can write anything\n",
        "    return rk\n"
      ]
    },
    {
      "cell_type": "code",
      "execution_count": null,
      "metadata": {
        "id": "1bd68c4f-603c-417f-a6c3-c82e2ffce728",
        "outputId": "bb42f833-9b28-46c7-b096-87192bdc60d6",
        "colab": {
          "base_uri": "https://localhost:8080/"
        }
      },
      "outputs": [
        {
          "output_type": "execute_result",
          "data": {
            "text/plain": [
              "()"
            ]
          },
          "metadata": {},
          "execution_count": 10
        }
      ],
      "source": [
        "test1()"
      ]
    },
    {
      "cell_type": "code",
      "execution_count": null,
      "metadata": {
        "id": "3e08717d-942e-42be-9462-a30212cd8654",
        "outputId": "affdddf9-e59e-4939-cc76-b1b70ad44e33",
        "colab": {
          "base_uri": "https://localhost:8080/"
        }
      },
      "outputs": [
        {
          "output_type": "execute_result",
          "data": {
            "text/plain": [
              "tuple"
            ]
          },
          "metadata": {},
          "execution_count": 11
        }
      ],
      "source": [
        "type(test1())"
      ]
    },
    {
      "cell_type": "code",
      "execution_count": null,
      "metadata": {
        "id": "0f8bc629-80c7-4e11-9d5c-4a11fb978b83",
        "outputId": "4bd766b0-e268-4150-8718-d716e719e6eb",
        "colab": {
          "base_uri": "https://localhost:8080/"
        }
      },
      "outputs": [
        {
          "output_type": "execute_result",
          "data": {
            "text/plain": [
              "(86, 56, 27.2, 'good', [24, 99, 9])"
            ]
          },
          "metadata": {},
          "execution_count": 12
        }
      ],
      "source": [
        "test1(86,56,27.2,'good', [24,99,9])  # staric(*) returns all the values in the form of tuple"
      ]
    },
    {
      "cell_type": "code",
      "execution_count": null,
      "metadata": {
        "id": "4880bdbd-a829-44a2-9969-dc836e557e2b"
      },
      "outputs": [],
      "source": [
        "def test2(**kwargs) :\n",
        "    return kwargs"
      ]
    },
    {
      "cell_type": "code",
      "execution_count": null,
      "metadata": {
        "id": "57660daa-0791-454a-8315-424a41d790ef",
        "outputId": "8083e988-b318-41f0-8d51-9b7a43d10677",
        "colab": {
          "base_uri": "https://localhost:8080/"
        }
      },
      "outputs": [
        {
          "output_type": "execute_result",
          "data": {
            "text/plain": [
              "{}"
            ]
          },
          "metadata": {},
          "execution_count": 14
        }
      ],
      "source": [
        "test2()"
      ]
    },
    {
      "cell_type": "code",
      "execution_count": null,
      "metadata": {
        "id": "6f58789f-94d0-467b-95c3-505017a5f548",
        "outputId": "0347fc7b-ec96-4591-9a19-45073a50e918",
        "colab": {
          "base_uri": "https://localhost:8080/"
        }
      },
      "outputs": [
        {
          "output_type": "execute_result",
          "data": {
            "text/plain": [
              "dict"
            ]
          },
          "metadata": {},
          "execution_count": 15
        }
      ],
      "source": [
        "type(test2())"
      ]
    },
    {
      "cell_type": "code",
      "execution_count": null,
      "metadata": {
        "id": "95f9b4a2-1d9d-4f47-bfc1-a22af3b30152",
        "outputId": "4971cef0-403d-4a41-d41e-ee2dccab86da",
        "colab": {
          "base_uri": "https://localhost:8080/"
        }
      },
      "outputs": [
        {
          "output_type": "execute_result",
          "data": {
            "text/plain": [
              "{'a': [1, 5, 4, 8], 'b': 'rk', 'c': 39.5}"
            ]
          },
          "metadata": {},
          "execution_count": 17
        }
      ],
      "source": [
        "test2(a = [1,5,4,8], b = \"rk\", c = 39.5)"
      ]
    },
    {
      "cell_type": "markdown",
      "source": [
        "**Q3.  What is an iterator in python? Name the method used to initialise the iterator object and the method used for iteration. Use these methods to print the first five elements of the given list [2, 4, 6, 8, 10, 12, 14,\n",
        "16, 18, 20].**"
      ],
      "metadata": {
        "id": "ysyngjPRWyBV"
      }
    },
    {
      "cell_type": "markdown",
      "source": [
        "**Ans:** In Python, an iterator is an object that represents a sequence of elements. It allows us to iterate (loop) through the elements of a collection, such as a list, one at a time.\n",
        "To work with an iterator, we typically use two methods:\n",
        "\n",
        "**Initialization Method :**  To create an iterator object, we use the iter() method.\n",
        "\n",
        "**Iteration Method :** To retrieve the next element from the iterator, we use the next() method."
      ],
      "metadata": {
        "id": "arz0zyc9W_lN"
      }
    },
    {
      "cell_type": "code",
      "source": [
        "# Initialize the iterator\n",
        "my_list = [2, 4, 6, 8, 10, 12, 14, 16, 18, 20]\n",
        "iterator = iter(my_list)\n",
        "\n",
        "# Iterate and print the first five elements\n",
        "for i in range(5):\n",
        "    element = next(iterator)\n",
        "    print(element)\n",
        "\n"
      ],
      "metadata": {
        "id": "eQb57Tk6Wrpg",
        "colab": {
          "base_uri": "https://localhost:8080/"
        },
        "outputId": "f8ea62fb-1dee-447b-d8fe-c44218488160"
      },
      "execution_count": 2,
      "outputs": [
        {
          "output_type": "stream",
          "name": "stdout",
          "text": [
            "2\n",
            "4\n",
            "6\n",
            "8\n",
            "10\n"
          ]
        }
      ]
    },
    {
      "cell_type": "code",
      "source": [
        "# Initialize the iterator\n",
        "my_list = [2, 4, 6, 8, 10, 12, 14, 16, 18, 20]\n",
        "iterator = iter(my_list)\n",
        "\n",
        "# Initialize a counter\n",
        "count = 0\n",
        "\n",
        "# Iterate and print the first five elements\n",
        "while count < 5:\n",
        "    element = next(iterator)\n",
        "    print(element)\n",
        "    count += 1\n"
      ],
      "metadata": {
        "id": "g5N67KqXCUQa",
        "colab": {
          "base_uri": "https://localhost:8080/"
        },
        "outputId": "95feb86d-11be-4a00-e5bf-54fc39810fc4"
      },
      "execution_count": 3,
      "outputs": [
        {
          "output_type": "stream",
          "name": "stdout",
          "text": [
            "2\n",
            "4\n",
            "6\n",
            "8\n",
            "10\n"
          ]
        }
      ]
    },
    {
      "cell_type": "markdown",
      "source": [
        "**Q4.  What is a generator function in python? Why yield keyword is used? Give an example of a generator\n",
        "function.**"
      ],
      "metadata": {
        "id": "yPi0QSstEyBG"
      }
    },
    {
      "cell_type": "markdown",
      "source": [
        "**Ans :** **Generator Function** in python is a special type of function that allows us to create an iterator. Unlike regular functions that use the return keyword to return a value and terminate the function, generator functions use the **yield keyword** to yield a value to the caller and temporarily suspend the function's state. This allows the function to be resumed from where it left off the next time it's called.\n",
        "\n",
        "Yield allows the function to be resumed from where it left off the next time it's called. Generators are memory-efficient because they don't store the entire sequence of values in memory at once; instead, they generate values on-the-fly as needed.That'swhy **yield** is used in generator function."
      ],
      "metadata": {
        "id": "kuq7EX2CE6wl"
      }
    },
    {
      "cell_type": "code",
      "source": [
        "def count_test(n):\n",
        "  count = 1          # start from 1 and go till n then yield\n",
        "  while count <n :\n",
        "    yield count\n",
        "    count = count +1"
      ],
      "metadata": {
        "id": "UinfVYgyEscD"
      },
      "execution_count": 1,
      "outputs": []
    },
    {
      "cell_type": "code",
      "source": [
        "c = count_test(5)"
      ],
      "metadata": {
        "id": "QlVb4HvSZguF"
      },
      "execution_count": 2,
      "outputs": []
    },
    {
      "cell_type": "code",
      "source": [
        "for i in c :\n",
        "  print(i)"
      ],
      "metadata": {
        "colab": {
          "base_uri": "https://localhost:8080/"
        },
        "id": "rfRGqE7CZlbo",
        "outputId": "3938d9b5-618f-4dc3-f7ac-ea5ead2185e7"
      },
      "execution_count": 3,
      "outputs": [
        {
          "output_type": "stream",
          "name": "stdout",
          "text": [
            "1\n",
            "2\n",
            "3\n",
            "4\n"
          ]
        }
      ]
    },
    {
      "cell_type": "markdown",
      "source": [
        "**Q5. Create a generator function for prime numbers less than 1000. Use the next() method to print the\n",
        "first 20 prime numbers.**"
      ],
      "metadata": {
        "id": "mnYUlkUEVKWd"
      }
    },
    {
      "cell_type": "code",
      "source": [
        "def isPrime(num):\n",
        "  for i in range(2,num):\n",
        "    if num % i == 0:\n",
        "      return False\n",
        "  return True"
      ],
      "metadata": {
        "id": "UbGUu-l_VInx"
      },
      "execution_count": 12,
      "outputs": []
    },
    {
      "cell_type": "code",
      "source": [
        "def primeGenerator(n):\n",
        "  num = 2\n",
        "  while n:\n",
        "    if isPrime(num):\n",
        "      yield num\n",
        "      n-=1\n",
        "    num+=1\n",
        "  return"
      ],
      "metadata": {
        "id": "VbOy8yUAZOVW"
      },
      "execution_count": 14,
      "outputs": []
    },
    {
      "cell_type": "code",
      "source": [
        "iterator = primeGenerator(20)\n",
        "for e in iterator:\n",
        "  print(e, end = ' ')"
      ],
      "metadata": {
        "colab": {
          "base_uri": "https://localhost:8080/"
        },
        "id": "2ZObRtB-Zv64",
        "outputId": "36bd63e1-4b7a-4833-e6fb-312fca01c926"
      },
      "execution_count": 16,
      "outputs": [
        {
          "output_type": "stream",
          "name": "stdout",
          "text": [
            "2 3 5 7 11 13 17 19 23 29 31 37 41 43 47 53 59 61 67 71 "
          ]
        }
      ]
    },
    {
      "cell_type": "markdown",
      "source": [
        "**Q6. Write a python program to print the first 10 Fibonacci numbers using a while loop.**"
      ],
      "metadata": {
        "id": "PnQVsbUlbIlY"
      }
    },
    {
      "cell_type": "code",
      "source": [
        "def test_fib() :\n",
        "  a,b = 0,1\n",
        "  while True:\n",
        "    yield a\n",
        "    a,b = b, a+b"
      ],
      "metadata": {
        "id": "x0lQKXwfUKdp"
      },
      "execution_count": 17,
      "outputs": []
    },
    {
      "cell_type": "code",
      "source": [
        "fib = test_fib()"
      ],
      "metadata": {
        "id": "hVrwL73fVlWc"
      },
      "execution_count": 18,
      "outputs": []
    },
    {
      "cell_type": "code",
      "source": [
        "for i in range(10):\n",
        "  print(next(fib))"
      ],
      "metadata": {
        "colab": {
          "base_uri": "https://localhost:8080/"
        },
        "id": "VVDUp_gvV24d",
        "outputId": "d0062b82-e416-415e-f49e-6cd59d3299d1"
      },
      "execution_count": 19,
      "outputs": [
        {
          "output_type": "stream",
          "name": "stdout",
          "text": [
            "0\n",
            "1\n",
            "1\n",
            "2\n",
            "3\n",
            "5\n",
            "8\n",
            "13\n",
            "21\n",
            "34\n"
          ]
        }
      ]
    },
    {
      "cell_type": "markdown",
      "source": [
        "**Q7. Write a List Comprehension to iterate through the given string: ‘pwskills’. Expected output: ['p', 'w', 's', 'k', 'i', 'l', 'l', 's']**"
      ],
      "metadata": {
        "id": "zGfd5NRKcRDt"
      }
    },
    {
      "cell_type": "code",
      "source": [
        "s = 'pwskills'\n",
        "l = []\n",
        "for i in s:\n",
        "  l.append(i)\n",
        ""
      ],
      "metadata": {
        "id": "Iz1K5e2saRBb"
      },
      "execution_count": 20,
      "outputs": []
    },
    {
      "cell_type": "code",
      "source": [
        "l"
      ],
      "metadata": {
        "colab": {
          "base_uri": "https://localhost:8080/"
        },
        "id": "ffFKtDsxc6C6",
        "outputId": "9ca9144e-6560-4520-883c-e19c5e09fc69"
      },
      "execution_count": 21,
      "outputs": [
        {
          "output_type": "execute_result",
          "data": {
            "text/plain": [
              "['p', 'w', 's', 'k', 'i', 'l', 'l', 's']"
            ]
          },
          "metadata": {},
          "execution_count": 21
        }
      ]
    },
    {
      "cell_type": "markdown",
      "source": [
        "**Q8. Write a python program to check whether a given number is Palindrome or not using a while loop.**"
      ],
      "metadata": {
        "id": "_dGPhhXPdHBB"
      }
    },
    {
      "cell_type": "code",
      "source": [
        "# Taking Input\n",
        "num = int(input(\"Enter a number: \"))\n",
        "x = num\n",
        "reverse = 0\n",
        "\n",
        "while (num > 0):\n",
        "  last_digit = num % 10\n",
        "  reverse = reverse * 10 + last_digit\n",
        "  num = num // 10\n",
        "\n",
        "if x == reverse:\n",
        "  print(\"Number is a Palindrome\")\n",
        "else:\n",
        "  print(\"Number is not a Palindrome\")\n"
      ],
      "metadata": {
        "colab": {
          "base_uri": "https://localhost:8080/"
        },
        "id": "RQ3sVsqboGMQ",
        "outputId": "277bc5e3-6c77-4cc6-bf73-ebbf49e52737"
      },
      "execution_count": 27,
      "outputs": [
        {
          "output_type": "stream",
          "name": "stdout",
          "text": [
            "Enter a number: 1331\n",
            "Number is a Palindrome\n"
          ]
        }
      ]
    },
    {
      "cell_type": "markdown",
      "source": [
        "**Q9. Write a code to print odd numbers from 1 to 100 using list comprehension.**\n",
        "\n",
        "**Note:** Use a list comprehension to create a list from 1 to 100 and use another List comprehension to filter\n",
        "out odd numbers."
      ],
      "metadata": {
        "id": "7nQ4v4A3qrd0"
      }
    },
    {
      "cell_type": "code",
      "source": [
        "my_list = []\n",
        "for i in range(1,100):\n",
        "  my_list.append(i)"
      ],
      "metadata": {
        "id": "Mb-LeyoFpXdd"
      },
      "execution_count": 30,
      "outputs": []
    },
    {
      "cell_type": "code",
      "source": [
        "odd_numbers_list = []\n",
        "for j in my_list:\n",
        "  if j % 2 != 0:\n",
        "    odd_numbers_list.append(j)"
      ],
      "metadata": {
        "id": "bbVl8d01rRkf"
      },
      "execution_count": 34,
      "outputs": []
    },
    {
      "cell_type": "code",
      "source": [
        "print(odd_numbers_list)"
      ],
      "metadata": {
        "colab": {
          "base_uri": "https://localhost:8080/"
        },
        "id": "32WBkdRDrczj",
        "outputId": "8126d9b3-2750-4abd-f529-b38557eb63ae"
      },
      "execution_count": 37,
      "outputs": [
        {
          "output_type": "stream",
          "name": "stdout",
          "text": [
            "[1, 3, 5, 7, 9, 11, 13, 15, 17, 19, 21, 23, 25, 27, 29, 31, 33, 35, 37, 39, 41, 43, 45, 47, 49, 51, 53, 55, 57, 59, 61, 63, 65, 67, 69, 71, 73, 75, 77, 79, 81, 83, 85, 87, 89, 91, 93, 95, 97, 99]\n"
          ]
        }
      ]
    },
    {
      "cell_type": "code",
      "source": [],
      "metadata": {
        "id": "x6yoGfxJsNtn"
      },
      "execution_count": null,
      "outputs": []
    }
  ]
}