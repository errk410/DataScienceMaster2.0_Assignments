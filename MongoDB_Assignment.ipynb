{
  "nbformat": 4,
  "nbformat_minor": 0,
  "metadata": {
    "colab": {
      "provenance": []
    },
    "kernelspec": {
      "name": "python3",
      "display_name": "Python 3"
    },
    "language_info": {
      "name": "python"
    }
  },
  "cells": [
    {
      "cell_type": "markdown",
      "source": [
        "**Q1.   What is MongoDB? Explain non-relational databases in short. In which scenarios it is preferred to use\n",
        "MongoDB over SQL databases?**"
      ],
      "metadata": {
        "id": "l0wfb4oKFQp8"
      }
    },
    {
      "cell_type": "markdown",
      "source": [
        "**MongoDB** is  ***document based database *** and a popular open-source NoSQL (not only SQL) database management system. It stores data in a flexible, JSON-like format called BSON (Binary JSON) and is designed for handling large volumes of unstructured or semi-structured data. MongoDB is known for its **scalability, high performance, and flexibility** in handling diverse data types.\n",
        "\n",
        "\n",
        "**Non-Relational Databases**  or NoSQL databases, differ from traditional SQL (relational) databases in several ways:\n",
        "1. Schema Flexibility\n",
        "2. Scalability\n",
        "3. Data Variety\n",
        "4. Speed\n"
      ],
      "metadata": {
        "id": "N8lmoZAvFT30"
      }
    },
    {
      "cell_type": "markdown",
      "source": [
        "**Scenarios where MongoDB is preferred over SQL databases include:**\n",
        "\n",
        "1. **Big Data and Real-time Analytics:** When we have to deal with large volumes of data or when we need real-time analytics, scalability and fast read/write operations of MongoDB are very advantageous.\n",
        "\n",
        "2. **Document Storage:** MongoDB is excellent for storing semi-structured or hierarchical data in documents, making it suitable for content management systems, catalogs, and product databases.\n",
        "\n",
        "3. **Agile Development:** If our development process involves frequent schema changes or we need to adapt to evolving requirements quickly, MongoDB's schema-less nature is beneficial.\n",
        "\n",
        "4. **Horizontal Scalability:** MongoDB can easily scale out across multiple servers or clusters, which is crucial for handling increasing loads."
      ],
      "metadata": {
        "id": "LS3Q6LdIFS6s"
      }
    },
    {
      "cell_type": "markdown",
      "source": [
        "**Q2. State and Explain the features of MongoDB.**"
      ],
      "metadata": {
        "id": "mUXa2K90FS1e"
      }
    },
    {
      "cell_type": "markdown",
      "source": [
        "**Ans:** MongoDB offers several key features:\n",
        "1. **Document-Oriented:** MongoDB stores data in BSON documents, which can be nested and contain arrays and subdocuments, providing a flexible and natural way to represent complex data structures.\n",
        "\n",
        "2. **Schema-less:** There is no fixed schema in MongoDB, allowing you to add fields to documents on the fly. This flexibility is valuable for dynamic or evolving data.\n",
        "\n",
        "3. **Highly Scalable:** MongoDB supports horizontal scaling through sharding, enabling you to distribute data across multiple servers or clusters to handle increased loads.\n",
        "\n",
        "4. **Flexible Indexing:** You can create custom indexes to optimize queries, including compound indexes and geospatial indexes.\n",
        "\n",
        "5. **Querying:** MongoDB supports powerful query operations, including aggregation pipelines, text search, and geospatial queries.\n",
        "\n",
        "6. **Replication:** MongoDB provides automatic data replication with support for failover and high availability.\n",
        "\n"
      ],
      "metadata": {
        "id": "s8ywMgePMN9_"
      }
    },
    {
      "cell_type": "markdown",
      "source": [
        "**Q3. Write code to connect MongoDB to Python. Also, create a database and a collection in MongoDB.**"
      ],
      "metadata": {
        "id": "JSYmiTVcRnJN"
      }
    },
    {
      "cell_type": "code",
      "source": [
        "pip install pymongo"
      ],
      "metadata": {
        "colab": {
          "base_uri": "https://localhost:8080/"
        },
        "id": "hnF03bbjX3rJ",
        "outputId": "e72a62bc-6291-41f1-f102-bef98fb81216"
      },
      "execution_count": 1,
      "outputs": [
        {
          "output_type": "stream",
          "name": "stdout",
          "text": [
            "Collecting pymongo\n",
            "  Downloading pymongo-4.5.0-cp310-cp310-manylinux_2_17_x86_64.manylinux2014_x86_64.whl (671 kB)\n",
            "\u001b[2K     \u001b[90m━━━━━━━━━━━━━━━━━━━━━━━━━━━━━━━━━━━━━━━\u001b[0m \u001b[32m671.3/671.3 kB\u001b[0m \u001b[31m8.8 MB/s\u001b[0m eta \u001b[36m0:00:00\u001b[0m\n",
            "\u001b[?25hCollecting dnspython<3.0.0,>=1.16.0 (from pymongo)\n",
            "  Downloading dnspython-2.4.2-py3-none-any.whl (300 kB)\n",
            "\u001b[2K     \u001b[90m━━━━━━━━━━━━━━━━━━━━━━━━━━━━━━━━━━━━━━\u001b[0m \u001b[32m300.4/300.4 kB\u001b[0m \u001b[31m30.2 MB/s\u001b[0m eta \u001b[36m0:00:00\u001b[0m\n",
            "\u001b[?25hInstalling collected packages: dnspython, pymongo\n",
            "Successfully installed dnspython-2.4.2 pymongo-4.5.0\n"
          ]
        }
      ]
    },
    {
      "cell_type": "code",
      "source": [
        "import pymongo\n",
        "from pymongo.mongo_client import MongoClient\n",
        "\n",
        "uri = \"mongodb+srv://ramkalikushwaha:<password>@cluster0.8yivmuo.mongodb.net/?retryWrites=true&w=majority\"\n",
        "# Create a new client and connect to the server\n",
        "client = MongoClient(uri)\n",
        "db = client.test"
      ],
      "metadata": {
        "id": "2zU1XsnmXFad"
      },
      "execution_count": 5,
      "outputs": []
    },
    {
      "cell_type": "markdown",
      "source": [
        "**Note** Replace <password> with the password for the ramkalikushwaha user"
      ],
      "metadata": {
        "id": "Ubt41uioWUY8"
      }
    },
    {
      "cell_type": "code",
      "source": [
        "# Create a new database named \"mydatabase\"\n",
        "mydb = client[\"mydatabase\"]\n",
        "\n",
        "# Create a new collection named \"mycollection\" within the database\n",
        "mycollection = mydb[\"mycollection\"]"
      ],
      "metadata": {
        "id": "7iUPrWUvWyW_"
      },
      "execution_count": 6,
      "outputs": []
    },
    {
      "cell_type": "markdown",
      "source": [
        "**Q4. Using the database and the collection created in question number 3, write code to insert one record and insert many records. Use the find() and find_one() methods to print the inserted record.**"
      ],
      "metadata": {
        "id": "O1Bd-9EpYWfz"
      }
    },
    {
      "cell_type": "code",
      "source": [
        "# Insert one record into the collection\n",
        "data = {\"name\": \"rk\", \"age\": 23}\n",
        "record = mycollection.insert_one(data)\n",
        "\n",
        "# Insert multiple records into the collection\n",
        "data1 = [\n",
        "    {\"name\": \"revathy\", \"age\": 24},\n",
        "    {\"name\": \"Baby\", \"age\": 16},\n",
        "    {\"name\": \"Harry\", \"age\": 23}\n",
        "]\n",
        "records = mycollection.insert_many(data1)"
      ],
      "metadata": {
        "id": "fZI6hMAFYB3u"
      },
      "execution_count": 7,
      "outputs": []
    },
    {
      "cell_type": "code",
      "source": [
        "# Find and print the inserted record (one record)\n",
        "find_record = mycollection.find_one({\"name\": \"rk\"})\n",
        "print(find_record)"
      ],
      "metadata": {
        "colab": {
          "base_uri": "https://localhost:8080/"
        },
        "id": "dAZdhP6pb8WU",
        "outputId": "ce6f07e4-14fc-4e21-e8a3-bb890332dc75"
      },
      "execution_count": 8,
      "outputs": [
        {
          "output_type": "stream",
          "name": "stdout",
          "text": [
            "{'_id': ObjectId('65201b4bda072388913693f1'), 'name': 'rk', 'age': 23}\n"
          ]
        }
      ]
    },
    {
      "cell_type": "code",
      "source": [
        "# Find and print all records in the collection\n",
        "all_records = mycollection.find()\n",
        "for record in all_records:\n",
        "    print(record)"
      ],
      "metadata": {
        "colab": {
          "base_uri": "https://localhost:8080/"
        },
        "id": "ZQOIX8aXcJfS",
        "outputId": "7238ad0b-04e0-4ce0-b394-2bf32a30982e"
      },
      "execution_count": 9,
      "outputs": [
        {
          "output_type": "stream",
          "name": "stdout",
          "text": [
            "{'_id': ObjectId('65201b4bda072388913693f1'), 'name': 'rk', 'age': 23}\n",
            "{'_id': ObjectId('65201b4cda072388913693f2'), 'name': 'Alice', 'age': 25}\n",
            "{'_id': ObjectId('65201b4cda072388913693f3'), 'name': 'Bob', 'age': 35}\n",
            "{'_id': ObjectId('65201b4cda072388913693f4'), 'name': 'Eve', 'age': 28}\n",
            "{'_id': ObjectId('65201bb8da072388913693f5'), 'name': 'rk', 'age': 23}\n",
            "{'_id': ObjectId('65201bb8da072388913693f6'), 'name': 'revathy', 'age': 24}\n",
            "{'_id': ObjectId('65201bb8da072388913693f7'), 'name': 'Baby', 'age': 16}\n",
            "{'_id': ObjectId('65201bb8da072388913693f8'), 'name': 'Harry', 'age': 23}\n",
            "{'_id': ObjectId('65217bb30705a7e80a1eb9b2'), 'name': 'rk', 'age': 23}\n",
            "{'_id': ObjectId('65217bb40705a7e80a1eb9b3'), 'name': 'revathy', 'age': 24}\n",
            "{'_id': ObjectId('65217bb40705a7e80a1eb9b4'), 'name': 'Baby', 'age': 16}\n",
            "{'_id': ObjectId('65217bb40705a7e80a1eb9b5'), 'name': 'Harry', 'age': 23}\n"
          ]
        }
      ]
    },
    {
      "cell_type": "markdown",
      "source": [
        "**Q5. Explain how you can use the find() method to query the MongoDB database. Write a simple code to demonstrate this.**"
      ],
      "metadata": {
        "id": "SLjPsea-cZ9B"
      }
    },
    {
      "cell_type": "markdown",
      "source": [
        "**Ans :** The find() method is used to query documents in a MongoDB collection. It returns a cursor that can be iterated to retrieve documents that match a specified query filter."
      ],
      "metadata": {
        "id": "Cyi9XxspczcE"
      }
    },
    {
      "cell_type": "code",
      "source": [
        "# Find documents with age greater than 25\n",
        "query = {\"age\": {\"$gt\": 25}}              #using a query filter to find documents where the \"age\" field is greater than 30. The $gt operator stands for \"greater than.\"\n",
        "result = mycollection.find(query)\n",
        "\n",
        "# Print the matching documents\n",
        "for document in result:\n",
        "    print(document)\n"
      ],
      "metadata": {
        "id": "o0rvdG2vc0Ud",
        "colab": {
          "base_uri": "https://localhost:8080/"
        },
        "outputId": "13fc634b-647f-4ec9-e0b7-595c1aef29f9"
      },
      "execution_count": 10,
      "outputs": [
        {
          "output_type": "stream",
          "name": "stdout",
          "text": [
            "{'_id': ObjectId('65201b4cda072388913693f3'), 'name': 'Bob', 'age': 35}\n",
            "{'_id': ObjectId('65201b4cda072388913693f4'), 'name': 'Eve', 'age': 28}\n"
          ]
        }
      ]
    },
    {
      "cell_type": "markdown",
      "source": [
        "**Q6. Explain the sort() method. Give an example to demonstrate sorting in MongoDB.**"
      ],
      "metadata": {
        "id": "1BQhFIEtzGyD"
      }
    },
    {
      "cell_type": "markdown",
      "source": [
        "**Ans:** The sort() method in MongoDB is used to sort the result set of a query in ascending (default) or descending order based on one or more fields."
      ],
      "metadata": {
        "id": "YjVKxcvNzJx4"
      }
    },
    {
      "cell_type": "code",
      "source": [
        "# Sort documents by age in ascending order\n",
        "ascending_result = mycollection.find().sort(\"age\")\n",
        "\n",
        "# Print the sorted documents\n",
        "for document in ascending_result:\n",
        "    print(document)\n",
        "\n",
        "# Sort documents by age in descending order\n",
        "descending_result = mycollection.find().sort(\"age\", pymongo.DESCENDING)\n",
        "\n",
        "# Print the sorted documents in descending order\n",
        "for document in descending_result:\n",
        "    print(document)\n"
      ],
      "metadata": {
        "colab": {
          "base_uri": "https://localhost:8080/"
        },
        "id": "gVVfbJLnzQZR",
        "outputId": "c6c3bee8-b38d-4d71-acf8-2d648fad3150"
      },
      "execution_count": 11,
      "outputs": [
        {
          "output_type": "stream",
          "name": "stdout",
          "text": [
            "{'_id': ObjectId('65201bb8da072388913693f7'), 'name': 'Baby', 'age': 16}\n",
            "{'_id': ObjectId('65217bb40705a7e80a1eb9b4'), 'name': 'Baby', 'age': 16}\n",
            "{'_id': ObjectId('65201b4bda072388913693f1'), 'name': 'rk', 'age': 23}\n",
            "{'_id': ObjectId('65201bb8da072388913693f5'), 'name': 'rk', 'age': 23}\n",
            "{'_id': ObjectId('65201bb8da072388913693f8'), 'name': 'Harry', 'age': 23}\n",
            "{'_id': ObjectId('65217bb30705a7e80a1eb9b2'), 'name': 'rk', 'age': 23}\n",
            "{'_id': ObjectId('65217bb40705a7e80a1eb9b5'), 'name': 'Harry', 'age': 23}\n",
            "{'_id': ObjectId('65201bb8da072388913693f6'), 'name': 'revathy', 'age': 24}\n",
            "{'_id': ObjectId('65217bb40705a7e80a1eb9b3'), 'name': 'revathy', 'age': 24}\n",
            "{'_id': ObjectId('65201b4cda072388913693f2'), 'name': 'Alice', 'age': 25}\n",
            "{'_id': ObjectId('65201b4cda072388913693f4'), 'name': 'Eve', 'age': 28}\n",
            "{'_id': ObjectId('65201b4cda072388913693f3'), 'name': 'Bob', 'age': 35}\n",
            "{'_id': ObjectId('65201b4cda072388913693f3'), 'name': 'Bob', 'age': 35}\n",
            "{'_id': ObjectId('65201b4cda072388913693f4'), 'name': 'Eve', 'age': 28}\n",
            "{'_id': ObjectId('65201b4cda072388913693f2'), 'name': 'Alice', 'age': 25}\n",
            "{'_id': ObjectId('65201bb8da072388913693f6'), 'name': 'revathy', 'age': 24}\n",
            "{'_id': ObjectId('65217bb40705a7e80a1eb9b3'), 'name': 'revathy', 'age': 24}\n",
            "{'_id': ObjectId('65201b4bda072388913693f1'), 'name': 'rk', 'age': 23}\n",
            "{'_id': ObjectId('65201bb8da072388913693f5'), 'name': 'rk', 'age': 23}\n",
            "{'_id': ObjectId('65201bb8da072388913693f8'), 'name': 'Harry', 'age': 23}\n",
            "{'_id': ObjectId('65217bb30705a7e80a1eb9b2'), 'name': 'rk', 'age': 23}\n",
            "{'_id': ObjectId('65217bb40705a7e80a1eb9b5'), 'name': 'Harry', 'age': 23}\n",
            "{'_id': ObjectId('65201bb8da072388913693f7'), 'name': 'Baby', 'age': 16}\n",
            "{'_id': ObjectId('65217bb40705a7e80a1eb9b4'), 'name': 'Baby', 'age': 16}\n"
          ]
        }
      ]
    }
  ]
}