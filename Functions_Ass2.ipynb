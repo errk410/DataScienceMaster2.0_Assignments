{
  "nbformat": 4,
  "nbformat_minor": 0,
  "metadata": {
    "colab": {
      "provenance": []
    },
    "kernelspec": {
      "name": "python3",
      "display_name": "Python 3"
    },
    "language_info": {
      "name": "python"
    }
  },
  "cells": [
    {
      "cell_type": "markdown",
      "source": [
        "**Q1. Create a python program to sort the given list of tuples based on integer value using a\n",
        "lambda function.**\n",
        "\n",
        "**[('Sachin Tendulkar', 34357), ('Ricky Ponting', 27483), ('Jack Kallis', 25534), ('Virat Kohli', 24936)]**"
      ],
      "metadata": {
        "id": "vXVq5JRQtJ8e"
      }
    },
    {
      "cell_type": "code",
      "execution_count": 3,
      "metadata": {
        "id": "qwsZChfRs-ED",
        "colab": {
          "base_uri": "https://localhost:8080/"
        },
        "outputId": "0ffe781f-5412-43fb-e1e8-3187d1b2786c"
      },
      "outputs": [
        {
          "output_type": "stream",
          "name": "stdout",
          "text": [
            "[('Virat Kohli', 24936), ('Jack Kallis', 25534), ('Ricky Ponting', 27483), ('Sachin Tendulkar', 34357)]\n"
          ]
        }
      ],
      "source": [
        "my_list = [('Sachin Tendulkar', 34357), ('Ricky Ponting', 27483), ('Jack Kallis', 25534), ('Virat Kohli', 24936)]\n",
        "\n",
        "                                                        #          0                1\n",
        "sorted_list = sorted(my_list, key=lambda x: x[1])       # ('Sachin Tendulkar', 34357)\n",
        "print(sorted_list)"
      ]
    },
    {
      "cell_type": "code",
      "source": [
        "my_list.sort(key=lambda x: x[1])"
      ],
      "metadata": {
        "id": "sy-ptPRj-bPi"
      },
      "execution_count": 5,
      "outputs": []
    },
    {
      "cell_type": "code",
      "source": [
        "my_list"
      ],
      "metadata": {
        "colab": {
          "base_uri": "https://localhost:8080/"
        },
        "id": "xV4fIUWhGUJA",
        "outputId": "d71776e2-47a5-43c9-839b-34bf5baa80ce"
      },
      "execution_count": 6,
      "outputs": [
        {
          "output_type": "execute_result",
          "data": {
            "text/plain": [
              "[('Virat Kohli', 24936),\n",
              " ('Jack Kallis', 25534),\n",
              " ('Ricky Ponting', 27483),\n",
              " ('Sachin Tendulkar', 34357)]"
            ]
          },
          "metadata": {},
          "execution_count": 6
        }
      ]
    },
    {
      "cell_type": "markdown",
      "source": [
        "**Q2. Write a Python Program to find the squares of all the numbers in the given list of integers using\n",
        "lambda and map functions.**\n",
        "\n",
        "**[1, 2, 3, 4, 5, 6, 7, 8, 9, 10]**"
      ],
      "metadata": {
        "id": "RI9nKf2ZGpmZ"
      }
    },
    {
      "cell_type": "code",
      "source": [
        "l = [1, 2, 3, 4, 5, 6, 7, 8, 9, 10]\n",
        "\n",
        "def sq(x):\n",
        "  return x**2\n",
        "\n",
        "l1 = list(map(sq, l))  # Using map function\n",
        "l1"
      ],
      "metadata": {
        "colab": {
          "base_uri": "https://localhost:8080/"
        },
        "id": "n1E8X_J4Glog",
        "outputId": "332949c9-d39c-425c-ada9-7e58f33850b0"
      },
      "execution_count": 8,
      "outputs": [
        {
          "output_type": "execute_result",
          "data": {
            "text/plain": [
              "[1, 4, 9, 16, 25, 36, 49, 64, 81, 100]"
            ]
          },
          "metadata": {},
          "execution_count": 8
        }
      ]
    },
    {
      "cell_type": "code",
      "source": [
        "list(map(lambda x : x**2, l))      # Using lambda function"
      ],
      "metadata": {
        "colab": {
          "base_uri": "https://localhost:8080/"
        },
        "id": "aCvAA7XxIRM4",
        "outputId": "d1a971eb-72a5-434d-8ffa-4230902ac409"
      },
      "execution_count": 9,
      "outputs": [
        {
          "output_type": "execute_result",
          "data": {
            "text/plain": [
              "[1, 4, 9, 16, 25, 36, 49, 64, 81, 100]"
            ]
          },
          "metadata": {},
          "execution_count": 9
        }
      ]
    },
    {
      "cell_type": "markdown",
      "source": [
        "**Q3. Write a python program to convert the given list of integers into a tuple of strings. Use map and\n",
        "lambda functions**\n",
        "\n",
        "**Given String: [1, 2, 3, 4, 5, 6, 7, 8, 9, 10]**\n",
        "\n",
        "**Expected output: ('1', '2', '3', '4', '5', '6', '7', '8', '9', '10')**"
      ],
      "metadata": {
        "id": "rwNMErRxI6-a"
      }
    },
    {
      "cell_type": "code",
      "source": [
        "l2 = [1, 2, 3, 4, 5, 6, 7, 8, 9, 10]\n",
        "\n",
        "s = tuple(map(lambda i : str(i), l2))"
      ],
      "metadata": {
        "id": "QoAJXQG5Ittb"
      },
      "execution_count": 21,
      "outputs": []
    },
    {
      "cell_type": "code",
      "source": [
        "print(s)\n"
      ],
      "metadata": {
        "colab": {
          "base_uri": "https://localhost:8080/"
        },
        "id": "nUJpKH3pJzDy",
        "outputId": "e78219fe-5cf0-4128-f2fe-eaba1dfece71"
      },
      "execution_count": 22,
      "outputs": [
        {
          "output_type": "stream",
          "name": "stdout",
          "text": [
            "('1', '2', '3', '4', '5', '6', '7', '8', '9', '10')\n"
          ]
        }
      ]
    },
    {
      "cell_type": "markdown",
      "source": [
        "**Q4.  Write a python program using reduce function to compute the product of a list containing numbers\n",
        "from 1 to 25.**"
      ],
      "metadata": {
        "id": "-U7Ud073LqSG"
      }
    },
    {
      "cell_type": "markdown",
      "source": [
        "**REDUCE:** It will reduce the whole list and return a single value. this is not available by default. we have call reduce function."
      ],
      "metadata": {
        "id": "zRzb527NnItu"
      }
    },
    {
      "cell_type": "code",
      "source": [
        "from functools import reduce\n",
        "\n",
        "l3 = []\n",
        "for i in range(1,26): # range(1,26) will cantain numbers 1 to 25, because last number of the range is not included\n",
        "  l3.append(i)\n",
        "reduce(lambda x,y : x*y, l3)\n"
      ],
      "metadata": {
        "colab": {
          "base_uri": "https://localhost:8080/"
        },
        "id": "ERHV9dMUKkBy",
        "outputId": "3b2b0d57-a075-4d90-9efd-75a284c4090d"
      },
      "execution_count": 29,
      "outputs": [
        {
          "output_type": "execute_result",
          "data": {
            "text/plain": [
              "15511210043330985984000000"
            ]
          },
          "metadata": {},
          "execution_count": 29
        }
      ]
    },
    {
      "cell_type": "markdown",
      "source": [
        "**Q5. Write a python program to filter the numbers in a given list that are divisible by 2 and 3 using the\n",
        "filter function.**\n",
        "\n",
        "**[2, 3, 6, 9, 27, 60, 90, 120, 55, 46]**"
      ],
      "metadata": {
        "id": "OHTskQu1NQwR"
      }
    },
    {
      "cell_type": "code",
      "source": [
        "l4 = [2, 3, 6, 9, 27, 60, 90, 120, 55, 46]\n",
        "\n",
        "filtured_nums = list(filter(lambda x: x%2 == 0 and x%3 == 0, l4))\n",
        "print(filtured_nums)\n",
        "# list(filter(lambda x: x%6 == 0 , l4))   # number which is deviisible by 6, will be divisible by 2 and 3 also.\n"
      ],
      "metadata": {
        "colab": {
          "base_uri": "https://localhost:8080/"
        },
        "id": "EPTW9KiWNJro",
        "outputId": "4aa4cc87-0103-48c8-d621-6c099b6e37f3"
      },
      "execution_count": 33,
      "outputs": [
        {
          "output_type": "stream",
          "name": "stdout",
          "text": [
            "[6, 60, 90, 120]\n"
          ]
        }
      ]
    },
    {
      "cell_type": "markdown",
      "source": [
        "**Q6. Write a python program to find palindromes in the given list of strings using lambda and filter\n",
        "function.**\n",
        "\n",
        "**['python', 'php', 'aba', 'radar', 'level']**"
      ],
      "metadata": {
        "id": "0kjlTTY0P4CF"
      }
    },
    {
      "cell_type": "code",
      "source": [
        "strings = ['python', 'php', 'aba', 'radar', 'level']\n",
        "\n",
        "palindromes = list(filter(lambda x: x == x[::-1], strings))\n",
        "print(palindromes)\n"
      ],
      "metadata": {
        "colab": {
          "base_uri": "https://localhost:8080/"
        },
        "id": "T-Pj097gN5k-",
        "outputId": "d4d809df-6dce-4839-9204-65b6d6fdbd2b"
      },
      "execution_count": 34,
      "outputs": [
        {
          "output_type": "stream",
          "name": "stdout",
          "text": [
            "['php', 'aba', 'radar', 'level']\n"
          ]
        }
      ]
    }
  ]
}