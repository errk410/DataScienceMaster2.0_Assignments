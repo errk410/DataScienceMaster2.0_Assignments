{
  "nbformat": 4,
  "nbformat_minor": 0,
  "metadata": {
    "colab": {
      "provenance": []
    },
    "kernelspec": {
      "name": "python3",
      "display_name": "Python 3"
    },
    "language_info": {
      "name": "python"
    }
  },
  "cells": [
    {
      "cell_type": "markdown",
      "source": [
        "**Q1. Explain the following with an example:**\n",
        "1. **Artificial Intelligence**\n",
        "2. **Machine learning**\n",
        "3. **Deep Learning**"
      ],
      "metadata": {
        "id": "QDVCz9QvZeAV"
      }
    },
    {
      "cell_type": "markdown",
      "source": [
        "**Artificial Intelligence:** It is a smart application that can perform its own task without any human intervention.\n",
        "AI systems can adapt and improve their performance over time based on data and experience.\n",
        "\n",
        "**Example :**  Virtual personal assistants like Siri or Alexa use AI to understand and respond to natural language queries, helping users with tasks like setting reminders, answering questions, and controlling smart home devices.\n",
        "\n",
        "**Machine Learning (ML):** It is a subset of AI, which provides statistics tools to analyse, visualise, and to create predictive models. It also helps in forecasting.\n",
        "\n",
        "**Example :** Spam email filters use machine learning to classify emails as spam or not. These filters analyze past email data to identify patterns and make predictions about whether a new email is spam or legitimate.\n",
        "\n",
        "**Deep Learning (DL):** It is a subset of ML. Its main aim is to mimic the human brain. It  employs artificial neural networks with multiple layers (deep neural networks) to solve complex tasks.\n",
        "**Example :** Convolutional Neural Networks (CNNs), a type of deep learning model, are used in image recognition systems.\n",
        "face recognisition in our mobile (Google Photos)."
      ],
      "metadata": {
        "id": "O0IiSOeJa_NR"
      }
    },
    {
      "cell_type": "markdown",
      "source": [
        "**Q2- What is supervised learning? List some examples of supervised learning.**"
      ],
      "metadata": {
        "id": "64cOEPlpcGh6"
      }
    },
    {
      "cell_type": "markdown",
      "source": [
        "**Ans:** Supervised Learning is a type of machine learning where the algorithm learns from a labeled dataset, which means it is provided with input-output pairs (data and corresponding correct answers) during training. The goal is to learn a mapping from inputs to outputs, enabling the algorithm to make predictions or classifications on new, unseen data.\n",
        "\n",
        "**Examples of supervised learning tasks:**\n",
        "\n",
        "1. Concrete Strength Prediction\n",
        "\n",
        "2. Spam Detection:\n",
        "\n",
        "3. Sentiment Analysis:\n",
        "\n",
        "4. Handwriting Recognition\n"
      ],
      "metadata": {
        "id": "W8JKR-TccYsg"
      }
    },
    {
      "cell_type": "markdown",
      "source": [
        "**Q3. What is unsupervised learning? List some examples of supervised learning.**"
      ],
      "metadata": {
        "id": "p7QrEGV7n0ay"
      }
    },
    {
      "cell_type": "markdown",
      "source": [
        "**Ans :** Unsupervised Learning is a machine learning paradigm where the algorithm is given an unlabeled dataset and must find patterns or structures within the data without explicit\n",
        "\n",
        "**Examples of unsupervised learning tasks:**\n",
        "\n",
        "1. Clustering: Grouping similar data points together based on some similarity metric. For instance, clustering customers into segments based on their purchasing behavior.\n",
        "\n",
        "2. Dimensionality Reduction: Reducing the number of features in the data while preserving its essential structure.\n",
        "Principal Component Analysis (PCA) is an example of dimensionality reduction.\n",
        "\n",
        "3. Anomaly Detection: Identifying unusual or rare instances in the data, such as detecting fraudulent transactions in a credit card dataset."
      ],
      "metadata": {
        "id": "eGyOP4ntoFVg"
      }
    },
    {
      "cell_type": "markdown",
      "source": [
        "**Q4.  What is the difference between AI, ML, DL, and DS?**"
      ],
      "metadata": {
        "id": "WFe_6vj9oF8C"
      }
    },
    {
      "cell_type": "markdown",
      "source": [
        "**Ans :**\n",
        "\n",
        "**Artificial Intelligence:** It is a smart application that can perform its own task without any human intervention.\n",
        "AI systems can adapt and improve their performance over time based on data and experience.\n",
        "\n",
        "**Example :**  Virtual personal assistants like Siri or Alexa use AI to understand and respond to natural language queries, helping users with tasks like setting reminders, answering questions, and controlling smart home devices.\n",
        "\n",
        "**Machine Learning (ML):** It is a subset of AI, which provides statistics tools to analyse, visualise, and to create predictive models. It also helps in forecasting.\n",
        "\n",
        "**Example :** Spam email filters use machine learning to classify emails as spam or not. These filters analyze past email data to identify patterns and make predictions about whether a new email is spam or legitimate.\n",
        "\n",
        "**Deep Learning (DL):** It is a subset of ML. Its main aim is to mimic the human brain. It  employs artificial neural networks with multiple layers (deep neural networks) to solve complex tasks.\n",
        "**Example :** Convolutional Neural Networks (CNNs), a type of deep learning model, are used in image recognition systems.\n",
        "face recognisition in our mobile (Google Photos)."
      ],
      "metadata": {
        "id": "9FlVQUI3oQzG"
      }
    },
    {
      "cell_type": "markdown",
      "source": [
        "**Q5. What are the main differences between  supervised ,  unsupervised , and semi- supervised  learning?**"
      ],
      "metadata": {
        "id": "9aF-O3o7oR3d"
      }
    },
    {
      "cell_type": "markdown",
      "source": [
        "**ANS :**\n",
        "\n",
        "**Supervised Learning:** In supervised learning, the algorithm is trained on a labeled dataset, meaning it has access to both input data and corresponding output labels. The goal is to learn a mapping from inputs to outputs to make predictions on new, unseen data.\n",
        "\n",
        "**Unsupervised Learning:** Unsupervised learning deals with unlabeled data, and the algorithm's objective is to discover patterns, structures, or relationships within the data. There are no predefined output labels, and the algorithm explores the data's inherent structure.\n",
        "\n",
        "**Semi-Supervised Learning:** Semi-supervised learning combines elements of both supervised and unsupervised learning. It typically starts with a small labeled dataset and a larger unlabeled dataset. The algorithm uses the labeled data for supervised learning and leverages the unlabeled data to improve its performance by uncovering additional patterns or knowledge.\n",
        "\n",
        "**The key difference lies in the presence or absence of labeled output data, with supervised having labels, unsupervised having none, and semi-supervised using a combination.**"
      ],
      "metadata": {
        "id": "pyonongfoo-d"
      }
    },
    {
      "cell_type": "markdown",
      "source": [
        "**Q6- What is train, test and validation split? Explain the importance of each term.**"
      ],
      "metadata": {
        "id": "6mgiwZTnosRC"
      }
    },
    {
      "cell_type": "markdown",
      "source": [
        "**Ans:**\n",
        "\n",
        "**Training Data:** The training dataset is used to train the machine learning model. It contains input data and corresponding output labels (in supervised learning) or just input data (in unsupervised learning). The model learns from this data by adjusting its parameters to minimize errors and make accurate predictions.\n",
        "\n",
        "**Validation Data:** The validation dataset is used to tune the model's hyperparameters and evaluate its performance during training. It's a separate portion of the data that the model hasn't seen during training. The validation set helps prevent overfitting, where the model performs well on the training data but poorly on new, unseen data.\n",
        "\n",
        "**Test Data:** The test dataset is used to assess the model's generalization ability. It's also a separate dataset that the model hasn't been exposed to during training or validation. The test set provides an unbiased evaluation of the model's performance on unseen data, helping determine how well it will perform in real-world scenarios.\n",
        "\n",
        "**The importance of each term:**\n",
        "\n",
        "1. Training data is essential for teaching the model to make accurate predictions or classifications.\n",
        "2. Validation data helps fine-tune the model and prevent overfitting.\n",
        "3. Test data provides an unbiased assessment of the model's performance on unseen data, which is crucial for estimating real-world performance and ensuring the model's generalization capability."
      ],
      "metadata": {
        "id": "dNl5TDbAo1SM"
      }
    },
    {
      "cell_type": "markdown",
      "source": [
        "**Q7- How can unsupervised learning be used in anomaly detection?**"
      ],
      "metadata": {
        "id": "7Ulo-n3mo1ws"
      }
    },
    {
      "cell_type": "markdown",
      "source": [
        "**Ands:** Unsupervised learning can be used in anomaly detection by identifying data points or instances that deviate significantly from the norm or exhibit unusual patterns.\n",
        "Steps for Anomly Detection:\n",
        "\n",
        "**Clustering:** Unsupervised learning algorithms can group similar data points together into clusters. Anomalies are often isolated data points that don't belong to any cluster or belong to a small cluster.\n",
        "\n",
        "**Dimensionality Reduction:** Reducing the dimensionality of data using techniques like Principal Component Analysis (PCA) can help highlight anomalies. Anomalies may be detected by examining data points that have high residuals or reconstruction errors after dimensionality reduction.\n",
        "\n",
        "**Density Estimation:** Algorithms like Gaussian Mixture Models (GMMs) can be used to estimate the underlying data distribution. Data points that fall in low-density regions of the distribution are considered anomalies.\n",
        "\n",
        "**Autoencoders:** Deep learning techniques like autoencoders can be trained to reconstruct input data."
      ],
      "metadata": {
        "id": "SUC10xOCpCKw"
      }
    },
    {
      "cell_type": "markdown",
      "source": [
        "**Q8- List down some commonly used supervised learning algorithms and unsupervised learning\n",
        "algorithms.**"
      ],
      "metadata": {
        "id": "2T1HOyYdpD2i"
      }
    },
    {
      "cell_type": "markdown",
      "source": [
        "**Ans:**\n",
        "\n",
        "**Supervised Learning Algorithms:**\n",
        "\n",
        "1. Linear Regression\n",
        "2. Logistic Regression\n",
        "\n",
        "3. Decision Trees\n",
        "\n",
        "4. Random Forest\n",
        "\n",
        "5. Support Vector Machines (SVM)\n",
        "6. K-Nearest Neighbors (KNN)\n",
        "7. Naive Bayes\n",
        "8. Neural Networks\n",
        "\n",
        "**Unsupervised Learning Algorithms:**\n",
        "\n",
        "1. K-Means Clustering\n",
        "\n",
        "2. Hierarchical Clustering\n",
        "3. DBSCAN (Density-Based Spatial Clustering of Applications with Noise)\n",
        "\n",
        "4. Principal Component Analysis (PCA)\n",
        "\n",
        "5. Independent Component Analysis (ICA)\n",
        "\n",
        "6. Apriori Algorithm\n",
        "7. Gaussian Mixture Models (GMM)\n"
      ],
      "metadata": {
        "id": "O6YLFa71pQsO"
      }
    }
  ]
}