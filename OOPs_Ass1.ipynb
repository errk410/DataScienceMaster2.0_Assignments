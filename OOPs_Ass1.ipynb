{
  "nbformat": 4,
  "nbformat_minor": 0,
  "metadata": {
    "colab": {
      "provenance": []
    },
    "kernelspec": {
      "name": "python3",
      "display_name": "Python 3"
    },
    "language_info": {
      "name": "python"
    }
  },
  "cells": [
    {
      "cell_type": "markdown",
      "source": [
        "**Q1. Explain Class and Object with respect to Object-Oriented Programming. Give a suitable example.**"
      ],
      "metadata": {
        "id": "Wi9nqnB9rXq8"
      }
    },
    {
      "cell_type": "markdown",
      "source": [
        "**Ans:**\n",
        "\n",
        "**Class:** A class is a blueprint or template for creating objects in OOP. It defines the attributes and methods (functions) that the objects created from the class will have. It acts as a prototype for objects, specifying their structure and behavior.\n",
        "\n",
        "**Object:**  An object is an instance of a class. It is a concrete realization of the class blueprint, with its own unique data (attributes) and the ability to perform actions (methods) defined in the class. Objects are created from classes and can be used to represent real-world entities or concepts."
      ],
      "metadata": {
        "id": "iCxRRjL1ry0c"
      }
    },
    {
      "cell_type": "code",
      "execution_count": 6,
      "metadata": {
        "id": "x1F0uvNSrSn5"
      },
      "outputs": [],
      "source": [
        "class YouTube_channel:\n",
        "  def __init__(self, channel_name, video_type, no_of_subscribers):\n",
        "    self.channel_name = channel_name\n",
        "    self.video_type = video_type\n",
        "    self.no_of_subscribers = no_of_subscribers\n",
        "\n",
        " # Creating object (instance) of the YouTube_channel class\n",
        "YT = YouTube_channel(\"English Flow Forum\", \"English conversational\", 41)\n"
      ]
    },
    {
      "cell_type": "code",
      "source": [
        "YT.channel_name"
      ],
      "metadata": {
        "colab": {
          "base_uri": "https://localhost:8080/",
          "height": 35
        },
        "id": "i7uE-eJyv-TP",
        "outputId": "69e5ae0f-dea6-42cb-d71b-cc595bb5ae71"
      },
      "execution_count": 7,
      "outputs": [
        {
          "output_type": "execute_result",
          "data": {
            "text/plain": [
              "'English Flow Forum'"
            ],
            "application/vnd.google.colaboratory.intrinsic+json": {
              "type": "string"
            }
          },
          "metadata": {},
          "execution_count": 7
        }
      ]
    },
    {
      "cell_type": "markdown",
      "source": [
        "**Note :** In above example YT is the object of class YouTube_Channel."
      ],
      "metadata": {
        "id": "XaPeDZpWs1zk"
      }
    },
    {
      "cell_type": "markdown",
      "source": [
        "**Q2. Name the four pillars of OOPs.**"
      ],
      "metadata": {
        "id": "kO8SMjeuwTjq"
      }
    },
    {
      "cell_type": "markdown",
      "source": [
        "**Ans:** The four pillars of Object-Oriented Programming are:\n",
        "\n",
        "**Encapsulation:** This principle involves bundling data (attributes) and the methods (functions) that operate on that data into a single unit called a class. It restricts access to some of the object's components, hiding the internal details while providing an interface for interacting with the object.\n",
        "\n",
        "**Inheritance:** Inheritance is a mechanism that allows a new class (subclass or derived class) to inherit properties and behaviors (attributes and methods) from an existing class (base class or superclass). It promotes code reuse and establishes a hierarchical relationship between classes.\n",
        "\n",
        "**Polymorphism:** Polymorphism allows objects of different classes to be treated as objects of a common superclass. It enables objects to take on multiple forms and allows functions or methods to work with objects of different types through method overriding and method overloading.\n",
        "\n",
        "**Abstraction:** Abstraction is the process of simplifying complex systems by breaking them into smaller, more manageable parts. In OOP, it involves creating abstract classes or interfaces that define a set of methods without specifying their implementation. It provides a high-level view of an object's functionality."
      ],
      "metadata": {
        "id": "m8mWR__Nwa9m"
      }
    },
    {
      "cell_type": "markdown",
      "source": [
        "**Q3. Explain why the __ init__() function is used. Give a suitable example.**"
      ],
      "metadata": {
        "id": "vzj-YxcqyZe-"
      }
    },
    {
      "cell_type": "markdown",
      "source": [
        "**Ans:** The __ init__() function is a special method in Python classes known as the constructor. It is used to initialize the attributes (data members) of an object when it is created from a class. This function is automatically called when an object is instantiated, allowing you to set initial values for the object's attributes."
      ],
      "metadata": {
        "id": "nHD6tETsyhL8"
      }
    },
    {
      "cell_type": "code",
      "source": [
        "class novel:\n",
        "  def __init__(self, name, Author):\n",
        "    self.name = name\n",
        "    self.Author = Author\n",
        "\n",
        "# Creating an object of the novel class and initializing its attributes\n",
        "novel1 = novel(\"The Beauty of Purpose in Life\", \"Sahla Parveen\")\n"
      ],
      "metadata": {
        "id": "b6VwHNILwZxr"
      },
      "execution_count": 8,
      "outputs": []
    },
    {
      "cell_type": "markdown",
      "source": [
        "**Q4. Why self is used in OOPs?**"
      ],
      "metadata": {
        "id": "kBN6RqmT0FCn"
      }
    },
    {
      "cell_type": "markdown",
      "source": [
        "**Ans:** In Object-Oriented Programming, **self** is a convention used in Python (though we can name use any name if we want) to refer to the instance (object) itself within a class. It is the first parameter passed to instance methods in a class and is used to access and manipulate the object's attributes and methods."
      ],
      "metadata": {
        "id": "COMBePZH0HPJ"
      }
    },
    {
      "cell_type": "markdown",
      "source": [
        "**Q5. What is inheritance? Give an example for each type of inheritance**"
      ],
      "metadata": {
        "id": "waTKl4tb0Idn"
      }
    },
    {
      "cell_type": "markdown",
      "source": [
        "**Ans:** **Inheritance** is a fundamental concept in OOP where a new class (subclass or derived class) is created by inheriting properties (attributes and methods) from an existing class (base class or superclass). It promotes code reuse and establishes an \"is-a\" relationship between classes. There are different types of inheritance:\n",
        "\n",
        "1. **Single Inheritance:** A subclass inherits from a single superclass.\n",
        "\n",
        "2. **Multiple Inheritance:** A subclass can inherit from multiple superclasses.\n",
        "\n",
        "3. **Multilevel Inheritance:** A class inherits from another class, which in turn inherits from another class.\n",
        "\n",
        "4. **Hierarchical Inheritance:** Multiple subclasses inherit from a single superclass.\n",
        "\n",
        "5. **Hybrid Inheritance:** A combination of different types of inheritance in a single program."
      ],
      "metadata": {
        "id": "BBs9BEyR0-5R"
      }
    },
    {
      "cell_type": "code",
      "source": [
        "# Single Inheritance:\n",
        "\n",
        "class Animal:\n",
        "    def speak(self):\n",
        "        pass\n",
        "\n",
        "class Dog(Animal):\n",
        "    def speak(self):\n",
        "        return \"Woof!\"\n",
        "\n",
        "dog = Dog()\n",
        "print(dog.speak())\n"
      ],
      "metadata": {
        "colab": {
          "base_uri": "https://localhost:8080/"
        },
        "id": "vIWJYia1z-CY",
        "outputId": "71bfad7a-e979-4ee5-be02-09756e34941b"
      },
      "execution_count": 9,
      "outputs": [
        {
          "output_type": "stream",
          "name": "stdout",
          "text": [
            "Woof!\n"
          ]
        }
      ]
    },
    {
      "cell_type": "code",
      "source": [
        "#  Miltiple Inheritance\n",
        "\n",
        "class A:\n",
        "    def methodA(self):\n",
        "        pass\n",
        "\n",
        "class B:\n",
        "    def methodB(self):\n",
        "        pass\n",
        "\n",
        "class C(A, B):\n",
        "    pass\n",
        "\n",
        "obj = C()\n",
        "obj.methodA()\n",
        "obj.methodB()\n"
      ],
      "metadata": {
        "id": "8_BasrJh5IrB"
      },
      "execution_count": 10,
      "outputs": []
    },
    {
      "cell_type": "code",
      "source": [
        "# Multilevel Inheritance\n",
        "\n",
        "class Grandparent:\n",
        "    pass\n",
        "\n",
        "class Parent(Grandparent):\n",
        "    pass\n",
        "\n",
        "class Child(Parent):\n",
        "    pass\n"
      ],
      "metadata": {
        "id": "BG8QWgpj5bJl"
      },
      "execution_count": 11,
      "outputs": []
    },
    {
      "cell_type": "code",
      "source": [
        "# Hierarchical Inheritance\n",
        "\n",
        "class Vehicle:\n",
        "    pass\n",
        "\n",
        "class Car(Vehicle):\n",
        "    pass\n",
        "\n",
        "class Bike(Vehicle):\n",
        "    pass\n"
      ],
      "metadata": {
        "id": "HFc6mN0X5ngX"
      },
      "execution_count": 12,
      "outputs": []
    },
    {
      "cell_type": "code",
      "source": [],
      "metadata": {
        "id": "vyM9qs1r5sVc"
      },
      "execution_count": null,
      "outputs": []
    }
  ]
}