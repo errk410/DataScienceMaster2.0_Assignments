{
  "nbformat": 4,
  "nbformat_minor": 0,
  "metadata": {
    "colab": {
      "provenance": []
    },
    "kernelspec": {
      "name": "python3",
      "display_name": "Python 3"
    },
    "language_info": {
      "name": "python"
    }
  },
  "cells": [
    {
      "cell_type": "markdown",
      "source": [
        "**Q1. What is Statistics?**"
      ],
      "metadata": {
        "id": "kXCsD30SbHHB"
      }
    },
    {
      "cell_type": "markdown",
      "source": [
        "**Ans :** Statistics is the science of collecting, interpreting, organizing and analyzing data.\n",
        "\n",
        "\n",
        "*   Data: facts or pieces of information\n",
        "\n",
        "\n"
      ],
      "metadata": {
        "id": "LhCO9RumbEA1"
      }
    },
    {
      "cell_type": "markdown",
      "source": [
        "**Q2. Define the different types of statistics and give an example of when each type might be used.**"
      ],
      "metadata": {
        "id": "ifFg4UFTczC0"
      }
    },
    {
      "cell_type": "markdown",
      "source": [
        "**Ans :** Two types of statistics\n",
        "\n",
        "*  **Descriptive Statistics :** It consists of organizing and summarizing data. It includes measure of central tendency (Mean, Median, Mode), measure of dispursion (Variance, standard deviation), Different type of distribution of data (Histogram, pdf,pmf).\n",
        "\n",
        "*  **Intferential Statistics :** It consists of using the data you have meausered to form conclusion. This is hypothesis testing in which we have to find H0, H1, p value and significance value. Inferential statistics has some of these tests like, z - test, t-test, chi-squared test."
      ],
      "metadata": {
        "id": "DbZ5L5Abczj-"
      }
    },
    {
      "cell_type": "markdown",
      "source": [
        "**Q3. What are the different types of data and how do they differ from each other? Provide an example of\n",
        "each type of data.**"
      ],
      "metadata": {
        "id": "z4sPGC3RneJ5"
      }
    },
    {
      "cell_type": "markdown",
      "source": [
        "**Ans :** There are two types of data Quantitative data and Qualitative data.\n",
        "\n",
        "*  **Quantitative Data :** This is numerical data, which has its two types :\n",
        "  \n",
        "  *  **Descrete Data** (whole number) Ex : no of students in a class, no of employees in a company etc.\n",
        "  \n",
        "  *  **Continuous Data** (Any value) Ex: Weight, Height, Blood Pressure etc.\n",
        "\n",
        "*  **Qualitative Data :** This is categorical data. which has its two types:\n",
        "\n",
        "  *  **Nominal Data:** It is a category but it has no rank. Ex: gender, Blood Group, Pincode etc.\n",
        "\n",
        "  *  **Ordinal Data:** It considers ranking. Ex: customer feedback, Feedback after the class for the teacher, review of a movie etc.\n",
        "\n",
        "\n"
      ],
      "metadata": {
        "id": "m2ob2orknniA"
      }
    },
    {
      "cell_type": "markdown",
      "source": [
        "**Q4. Categorise the following datasets with respect to quantitative and qualitative data types:**\n",
        "\n",
        "(i) Grading in exam: A+, A, B+, B, C+, C, D, E\n",
        "\n",
        "(ii) Colour of mangoes: yellow, green, orange, red\n",
        "\n",
        "(iii) Height data of a class: [178.9, 179, 179.5, 176, 177.2, 178.3, 175.8,...]\n",
        "\n",
        "(iv) Number of mangoes exported by a farm: [500, 600, 478, 672, ...]"
      ],
      "metadata": {
        "id": "5-yrH9tTjvfZ"
      }
    },
    {
      "cell_type": "markdown",
      "source": [
        "**Ans :** (i) Grading in exam:\n",
        "\n",
        "Data Type: Qualitative (Ordinal)\n",
        "\n",
        "Explanation: Grading in exams is a categorical data type as it represents different categories (A+, A, B+, B, C+, C, D, E) and it can be categorize as a rank .\n",
        "\n",
        "(ii) Colour of mangoes:\n",
        "\n",
        "Data Type: Qualitative (Nominal)\n",
        "\n",
        "Explanation: The color of mangoes is a categorical data type representing different colors (yellow, green, orange, red) with no numerical values.\n",
        "\n",
        "(iii) Height data of a class:\n",
        "\n",
        "Data Type: Quantitative (Continuous)\n",
        "\n",
        "Explanation: The height data consists of numerical values (e.g., 178.9, 179, 179.5) and can be measured and subjected to mathematical operations, making it quantitative data.\n",
        "\n",
        "(iv) Number of mangoes exported by a farm:\n",
        "\n",
        "Data Type: Quantitative (Descrete)\n",
        "\n",
        "Explanation: The number of mangoes exported consists of numerical values (e.g., 500, 600) and can be measured and subjected to mathematical operations, making it quantitative data."
      ],
      "metadata": {
        "id": "R4Pi8Sb9jvJm"
      }
    },
    {
      "cell_type": "markdown",
      "source": [
        "**Q5. Explain the concept of levels of measurement and give an example of a variable for each level.**"
      ],
      "metadata": {
        "id": "jig4EdUWmXL4"
      }
    },
    {
      "cell_type": "markdown",
      "source": [
        "**Ans :** Levels of measurement  categorize data based on the properties of the data and the mathematical operations that can be performed on them.\n",
        "\n",
        "* **Nominal Level:** Variables at the nominal level are categorical and have no inherent order or ranking. Example: Eye colors (blue, green, brown).\n",
        "\n",
        "* **Ordinal Level:** Variables at the ordinal level have categories with an order, but the differences between categories are not meaningful. Example: Education levels (high school, college, graduate).\n",
        "\n",
        "* **Interval Level:** Variables at the interval level have ordered categories with consistent intervals between them, but there's no meaningful zero point. Example: Temperature in Celsius.\n",
        "\n",
        "* **Ratio Level:** Variables at the ratio level have ordered categories with consistent intervals and a meaningful zero point. Example: Age, income, weight."
      ],
      "metadata": {
        "id": "EcouQ90pmZRR"
      }
    },
    {
      "cell_type": "markdown",
      "source": [
        "**Q6. Why is it important to understand the level of measurement when analyzing data? Provide an\n",
        "example to illustrate your answer.**"
      ],
      "metadata": {
        "id": "j-fzrnF6mc0h"
      }
    },
    {
      "cell_type": "markdown",
      "source": [
        "**Ans :** Understanding the level of measurement is crucial because it determines the types of statistical analyses that can be applied to the data. Inappropriate analysis based on the level of measurement can lead to erroneous conclusions. For example, we cannot calculate the mean of nominal data (e.g., assigning numerical values to eye colors and taking the average) because it lacks mathematical significance. This would lead to a meaningless result."
      ],
      "metadata": {
        "id": "vMQobRL6mgVk"
      }
    },
    {
      "cell_type": "markdown",
      "source": [
        "**Q7. How nominal data type is different from ordinal data type.**"
      ],
      "metadata": {
        "id": "GTKi6qAQmg97"
      }
    },
    {
      "cell_type": "markdown",
      "source": [
        "**Ans :** Nominal data and ordinal data both belong to the categorical data type, but they differ in terms of the level of measurement and the nature of the categories.\n",
        "* **Nominal Data:** Nominal data represents categories or labels without any inherent order or ranking. Examples include colors, gender, or car brands.\n",
        "\n",
        "* **Ordinal Data:** Ordinal data also represents categories, but these categories have a meaningful order or ranking. However, the intervals between the categories are not consistent or meaningful. Examples include education levels (e.g., high school, college, graduate)"
      ],
      "metadata": {
        "id": "KQ-0n-9Hmijg"
      }
    },
    {
      "cell_type": "markdown",
      "source": [
        "**Q8. Which type of plot can be used to display data in terms of range?**"
      ],
      "metadata": {
        "id": "_-2cX0SHmjQz"
      }
    },
    {
      "cell_type": "markdown",
      "source": [
        "**Ans :** A box plot (also known as a box-and-whisker plot) is a common type of plot used to display data in terms of range. It provides information about the distribution of data, including the minimum, first quartile (Q1), median (second quartile, Q2), third quartile (Q3), and maximum, which helps visualize the range of values and identify potential outliers."
      ],
      "metadata": {
        "id": "oq8DLurEmo-d"
      }
    },
    {
      "cell_type": "markdown",
      "source": [
        "**Q9. Describe the difference between descriptive and inferential statistics. Give an example of each\n",
        "type of statistics and explain how they are used.**"
      ],
      "metadata": {
        "id": "LVtTSSdCmp1A"
      }
    },
    {
      "cell_type": "markdown",
      "source": [
        "**Ans :**\n",
        "**Descriptive Statistics :** It consists of organizing and summarizing data. It includes measure of central tendency (Mean, Median, Mode), measure of dispursion (Variance, standard deviation), Different type of distribution of data (Histogram, pdf,pmf).\n",
        "\n",
        "**Intferential Statistics :** It consists of using the data you have meausered to form conclusion. This is hypothesis testing in which we have to find H0, H1, p value and significance value. Inferential statistics has some of these tests like, z - test, t-test, chi-squared test."
      ],
      "metadata": {
        "id": "yhzef7C6mtGX"
      }
    },
    {
      "cell_type": "markdown",
      "source": [
        "**Q10. What are some common measures of central tendency and variability used in statistics? Explain\n",
        "how each measure can be used to describe a dataset.**"
      ],
      "metadata": {
        "id": "u2wyk_6CmtjG"
      }
    },
    {
      "cell_type": "markdown",
      "source": [
        "**Ans : Measures of Central Tendency:**\n",
        "\n",
        "**Mean:** The arithmetic mean is the sum of all values divided by the number of values. It provides a measure of the center of the dataset.\n",
        "\n",
        "**Median:** The median is the middle value when the data is ordered. It's less affected by extreme outliers than the mean.\n",
        "\n",
        "**Mode:** The mode is the most frequently occurring value in a dataset. It's useful for identifying the most common value.\n",
        "\n",
        "**Measures of Variability (Dispersion):**\n",
        "\n",
        "**Range:** The range is the difference between the maximum and minimum values, providing a simple measure of the spread in the data.\n",
        "\n",
        "**Variance:** Variance measures the average squared difference from the mean and provides a more detailed understanding of data spread.\n",
        "\n",
        "**Standard Deviation:** The standard deviation is the square root of the variance and indicates the average distance of data points from the mean. It's commonly used for understanding data dispersion."
      ],
      "metadata": {
        "id": "UcCzITTnmwja"
      }
    }
  ]
}