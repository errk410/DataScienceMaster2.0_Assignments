{
  "nbformat": 4,
  "nbformat_minor": 0,
  "metadata": {
    "colab": {
      "provenance": []
    },
    "kernelspec": {
      "name": "python3",
      "display_name": "Python 3"
    },
    "language_info": {
      "name": "python"
    }
  },
  "cells": [
    {
      "cell_type": "markdown",
      "source": [
        "**Q1. Create a vehicle class with an init method having instance variables as name_of_vehicle, max_speed\n",
        "and average_of_vehicle.**"
      ],
      "metadata": {
        "id": "ro87wEcOxSHi"
      }
    },
    {
      "cell_type": "code",
      "source": [
        "class vehicle:\n",
        "  def __init__(self, name_of_vehicle, max_speed, average_of_vehicle):\n",
        "    self.name_of_vehicle = name_of_vehicle\n",
        "    self.max_speed = max_speed\n",
        "    self.average_of_vehicle = average_of_vehicle\n",
        "\n",
        "\n"
      ],
      "metadata": {
        "id": "X1OEYGRMx6EC"
      },
      "execution_count": null,
      "outputs": []
    },
    {
      "cell_type": "markdown",
      "source": [
        "**Q2. Create a child class car from the vehicle class created in Que 1, which will inherit the vehicle class. Create a method named seating_capacity which takes capacity as an argument and returns the name of the vehicle and its seating capacity.**"
      ],
      "metadata": {
        "id": "5DXi2MzfzbiA"
      }
    },
    {
      "cell_type": "code",
      "source": [
        "class car(vehicle):\n",
        "  def seating_capacity(self, capacity):\n",
        "    return self.name_of_vehicle, self.seating_capacity"
      ],
      "metadata": {
        "id": "rpKDGGdszTXc"
      },
      "execution_count": null,
      "outputs": []
    },
    {
      "cell_type": "code",
      "source": [],
      "metadata": {
        "id": "n3dHLzCT1PqB"
      },
      "execution_count": null,
      "outputs": []
    },
    {
      "cell_type": "markdown",
      "source": [
        "**Q3. What is multiple inheritance? Write a python code to demonstrate multiple inheritance**"
      ],
      "metadata": {
        "id": "DAFd8ocr1-Ja"
      }
    },
    {
      "cell_type": "markdown",
      "source": [
        "**Ans :** **Multiple Inheretance :** A class inherits from another class, which in turn inherits from another class."
      ],
      "metadata": {
        "id": "3xspz7Zz2KzC"
      }
    },
    {
      "cell_type": "code",
      "source": [
        "#  Multiple Inheritance\n",
        "\n",
        "class A:\n",
        "    def methodA(self):\n",
        "        pass\n",
        "\n",
        "class B:\n",
        "    def methodB(self):\n",
        "        pass\n",
        "\n",
        "class C(A, B):\n",
        "    pass\n",
        "\n",
        "obj = C()\n",
        "obj.methodA()\n",
        "obj.methodB()"
      ],
      "metadata": {
        "id": "JT4wAGAO2GAR"
      },
      "execution_count": 1,
      "outputs": []
    },
    {
      "cell_type": "markdown",
      "source": [
        "**Q4. What are getter and setter in python? Create a class and create a getter and a setter method in this\n",
        "class.**"
      ],
      "metadata": {
        "id": "1k-UdxkN2Wa9"
      }
    },
    {
      "cell_type": "markdown",
      "source": [
        "**Ans:**\n",
        "\n",
        "**Getter:** A method that allows you to access an attribute in a given class.\n",
        "\n",
        "**Setter:** A method that allows you to set or mutate the value of an attribute in a class."
      ],
      "metadata": {
        "id": "ibEEaxfc2dWT"
      }
    },
    {
      "cell_type": "code",
      "source": [
        "class student:\n",
        "  def __init__(self, name, age):\n",
        "    self._name = name\n",
        "    self._age = age\n",
        "\n",
        "  def getAge(self):\n",
        "      return self._age"
      ],
      "metadata": {
        "id": "yAPWsxvQxWGV"
      },
      "execution_count": 10,
      "outputs": []
    },
    {
      "cell_type": "code",
      "source": [
        "student.name"
      ],
      "metadata": {
        "colab": {
          "base_uri": "https://localhost:8080/",
          "height": 175
        },
        "id": "XcqPKVaXzBRb",
        "outputId": "2d7d8be4-a611-4f6d-8ccc-0b5ec1a004e7"
      },
      "execution_count": 11,
      "outputs": [
        {
          "output_type": "error",
          "ename": "AttributeError",
          "evalue": "ignored",
          "traceback": [
            "\u001b[0;31m---------------------------------------------------------------------------\u001b[0m",
            "\u001b[0;31mAttributeError\u001b[0m                            Traceback (most recent call last)",
            "\u001b[0;32m<ipython-input-11-d96b2e6ee257>\u001b[0m in \u001b[0;36m<cell line: 1>\u001b[0;34m()\u001b[0m\n\u001b[0;32m----> 1\u001b[0;31m \u001b[0mstudent\u001b[0m\u001b[0;34m.\u001b[0m\u001b[0mname\u001b[0m\u001b[0;34m\u001b[0m\u001b[0;34m\u001b[0m\u001b[0m\n\u001b[0m",
            "\u001b[0;31mAttributeError\u001b[0m: type object 'student' has no attribute 'name'"
          ]
        }
      ]
    },
    {
      "cell_type": "code",
      "source": [
        "stu = student(\"rk\", 23)\n",
        "age = stu.getAge()  # Accessing age using a getter"
      ],
      "metadata": {
        "id": "g2DIgN2XzWwM"
      },
      "execution_count": 16,
      "outputs": []
    },
    {
      "cell_type": "code",
      "source": [
        "# Setter Method\n",
        "\n",
        "class student:\n",
        "    def __init__(self, name, age):\n",
        "        self._name = name\n",
        "        self._age = age\n",
        "\n",
        "    def setAge(self, new_age):\n",
        "        if new_age >= 0:\n",
        "            self._age = new_age\n",
        "\n",
        "# Usage\n",
        "stu1 = student(\"unnie\", 24)\n",
        "stu1.setAge(35)  # Modifying age using a setter\n"
      ],
      "metadata": {
        "id": "-dWGYOl00UDu"
      },
      "execution_count": 18,
      "outputs": []
    },
    {
      "cell_type": "markdown",
      "source": [
        "**Q5.What is method overriding in python? Write a python code to demonstrate method overriding.**"
      ],
      "metadata": {
        "id": "SZs8k1r02eQl"
      }
    },
    {
      "cell_type": "markdown",
      "source": [
        "**Ans:** **Method overriding** is an ability of any object-oriented programming language that allows a subclass or child class to provide a specific implementation of a method that is already provided by one of its super-classes or parent classes.\n",
        "\n",
        "When a method in a subclass has the same name, same parameters or signature and same return type(or sub-type) as a method in its super-class, then the method in the subclass is said to override the method in the super-class."
      ],
      "metadata": {
        "id": "ZSF9EOxL2RYr"
      }
    },
    {
      "cell_type": "code",
      "source": [
        "class Animal:\n",
        "    def speak(self):\n",
        "        print(\"Animal speaks\")\n",
        "\n",
        "class Dog(Animal):\n",
        "    # Overriding the speak method of the superclass\n",
        "    def speak(self):\n",
        "        print(\"Dog barks\")\n",
        "\n",
        "class Cat(Animal):\n",
        "    # Overriding the speak method of the superclass\n",
        "    def speak(self):\n",
        "        print(\"Cat meows\")\n",
        "\n",
        "# Creating instances of Dog and Cat\n",
        "dog = Dog()\n",
        "cat = Cat()\n",
        "\n",
        "dog.speak()\n",
        "cat.speak()\n"
      ],
      "metadata": {
        "id": "PRLBMwoN2i2Z",
        "colab": {
          "base_uri": "https://localhost:8080/"
        },
        "outputId": "257fbabf-b169-414f-e6ff-63d63dc06aa1"
      },
      "execution_count": 20,
      "outputs": [
        {
          "output_type": "stream",
          "name": "stdout",
          "text": [
            "Dog barks\n",
            "Cat meows\n"
          ]
        }
      ]
    },
    {
      "cell_type": "code",
      "source": [],
      "metadata": {
        "id": "GJn3W6f14E22"
      },
      "execution_count": null,
      "outputs": []
    }
  ]
}