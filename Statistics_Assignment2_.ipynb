{
  "nbformat": 4,
  "nbformat_minor": 0,
  "metadata": {
    "colab": {
      "provenance": []
    },
    "kernelspec": {
      "name": "python3",
      "display_name": "Python 3"
    },
    "language_info": {
      "name": "python"
    }
  },
  "cells": [
    {
      "cell_type": "markdown",
      "source": [
        "**Q1. What are the three measures of central tendency?**"
      ],
      "metadata": {
        "id": "KFAqxQFr3qMs"
      }
    },
    {
      "cell_type": "markdown",
      "source": [
        "**Ans :** Mean, Median, Mode.\n",
        "\n",
        "**Mean :** The arithmetic average of a set of values.\n",
        "\n",
        "**Median:** The middle value when data is arranged in ascending or descending order.\n",
        "\n",
        "**Mode:** The value that appears most frequently in a dataset."
      ],
      "metadata": {
        "id": "qQ6tvnKu4ojN"
      }
    },
    {
      "cell_type": "markdown",
      "source": [
        "**Q2. What is the difference between the mean, median, and mode? How are they used to measure the\n",
        "central tendency of a dataset?**"
      ],
      "metadata": {
        "id": "GyczMPQr3qI7"
      }
    },
    {
      "cell_type": "markdown",
      "source": [
        "**Ans :**Mean: The mean is the average of all values in the dataset. It considers all values and can be influenced by extreme values (outliers).\n",
        "\n",
        "Median: The median is the middle value when the data is ordered. It's less affected by outliers and provides a measure of the central value.\n",
        "\n",
        "Mode: The mode is the value that appears most frequently. It's used to identify the most common value in the dataset. A dataset can have no mode, one mode (unimodal), or multiple modes (multimodal)."
      ],
      "metadata": {
        "id": "h0CvHVmh4nqV"
      }
    },
    {
      "cell_type": "markdown",
      "source": [
        "**Q3. Measure the three measures of central tendency for the given height data:\n",
        "[178,177,176,177,178.2,178,175,179,180,175,178.9,176.2,177,172.5,178,176.5]**"
      ],
      "metadata": {
        "id": "ip-a_H5r3qFm"
      }
    },
    {
      "cell_type": "code",
      "source": [
        "import numpy as np\n",
        "from scipy import stats"
      ],
      "metadata": {
        "id": "dNrulzBq_44G"
      },
      "execution_count": null,
      "outputs": []
    },
    {
      "cell_type": "code",
      "source": [
        "height =  [178,177,176,177,178.2,178,175,179,180,175,178.9,176.2,177,172.5,178,176.5]\n",
        "\n",
        "mean = np.mean(height)\n",
        "median = np.median(height)\n",
        "mode = stats.mode(height)\n",
        "print(mean)\n",
        "print(median)\n",
        "print(mode)\n"
      ],
      "metadata": {
        "colab": {
          "base_uri": "https://localhost:8080/"
        },
        "id": "x7kHd_fLAExR",
        "outputId": "d3c7011d-68a8-462c-8413-5b1926d28f17"
      },
      "execution_count": null,
      "outputs": [
        {
          "output_type": "stream",
          "name": "stdout",
          "text": [
            "177.01875\n",
            "177.0\n",
            "ModeResult(mode=177.0, count=3)\n"
          ]
        }
      ]
    },
    {
      "cell_type": "markdown",
      "source": [
        "**Q4. Find the standard deviation for the given data:\n",
        "[178,177,176,177,178.2,178,175,179,180,175,178.9,176.2,177,172.5,178,176.5]**"
      ],
      "metadata": {
        "id": "xmQQZZoq3qC8"
      }
    },
    {
      "cell_type": "code",
      "source": [
        "X = [178,177,176,177,178.2,178,175,179,180,175,178.9,176.2,177,172.5,178,176.5]\n",
        "\n",
        "import numpy as np\n",
        "import seaborn as sns\n",
        "\n",
        "#mean\n",
        "np.mean(X)"
      ],
      "metadata": {
        "id": "YRt0dfZ6Aoe-",
        "colab": {
          "base_uri": "https://localhost:8080/"
        },
        "outputId": "923c1abf-be0c-4fcb-aec3-01ecfd73dc8f"
      },
      "execution_count": null,
      "outputs": [
        {
          "output_type": "execute_result",
          "data": {
            "text/plain": [
              "177.01875"
            ]
          },
          "metadata": {},
          "execution_count": 1
        }
      ]
    },
    {
      "cell_type": "code",
      "source": [
        "#variance\n",
        "np.var(X)"
      ],
      "metadata": {
        "id": "-OYOalK8AoC5",
        "colab": {
          "base_uri": "https://localhost:8080/"
        },
        "outputId": "5ade5cd6-72c2-40bf-f71b-458170881d9b"
      },
      "execution_count": null,
      "outputs": [
        {
          "output_type": "execute_result",
          "data": {
            "text/plain": [
              "3.199023437500001"
            ]
          },
          "metadata": {},
          "execution_count": 3
        }
      ]
    },
    {
      "cell_type": "code",
      "source": [
        "#standard deviation\n",
        "np.std(X)"
      ],
      "metadata": {
        "colab": {
          "base_uri": "https://localhost:8080/"
        },
        "id": "1cljEKHd9tJf",
        "outputId": "dc48a33f-47b2-456e-897e-0f9032b38025"
      },
      "execution_count": null,
      "outputs": [
        {
          "output_type": "execute_result",
          "data": {
            "text/plain": [
              "1.7885814036548633"
            ]
          },
          "metadata": {},
          "execution_count": 4
        }
      ]
    },
    {
      "cell_type": "code",
      "source": [
        "sns.histplot(X, kde = True)"
      ],
      "metadata": {
        "colab": {
          "base_uri": "https://localhost:8080/",
          "height": 447
        },
        "id": "gH1rD56D9wLu",
        "outputId": "d5d48f2a-4aac-4539-e9df-76d57a3154c4"
      },
      "execution_count": null,
      "outputs": [
        {
          "output_type": "execute_result",
          "data": {
            "text/plain": [
              "<Axes: ylabel='Count'>"
            ]
          },
          "metadata": {},
          "execution_count": 6
        },
        {
          "output_type": "display_data",
          "data": {
            "text/plain": [
              "<Figure size 640x480 with 1 Axes>"
            ],
            "image/png": "[encoded data removed]"
          },
          "metadata": {}
        }
      ]
    },
    {
      "cell_type": "markdown",
      "source": [
        "**Q5. How are measures of dispersion such as range, variance, and standard deviation used to describe\n",
        "the spread of a dataset? Provide an example.**"
      ],
      "metadata": {
        "id": "r5ud6hZ-3p_B"
      }
    },
    {
      "cell_type": "markdown",
      "source": [
        "**Ans :**\n",
        "\n",
        "**Range:** It gives the difference between the maximum and minimum values in the dataset, providing a simple measure of spread.\n",
        "\n",
        "**Variance and Standard Deviation:** These measures quantify the average distance of data points from the mean. A higher variance or standard deviation indicates greater data spread. They provide a more detailed understanding of variability in the dataset.\n",
        "\n",
        "**Example:** Consider two datasets with the same mean but different variances. Dataset A has a variance of 10, and Dataset B has a variance of 2. Although both datasets have the same mean, Dataset A is more spread out from the mean, while Dataset B is more tightly clustered around the mean."
      ],
      "metadata": {
        "id": "gmlAlHDQ4l40"
      }
    },
    {
      "cell_type": "markdown",
      "source": [
        "**Q6. What is a Venn diagram?**"
      ],
      "metadata": {
        "id": "G39rwVDk3p7o"
      }
    },
    {
      "cell_type": "markdown",
      "source": [
        "**Ans :** A Venn diagram is a visual representation of the relationships between sets. It uses overlapping circles to show how different sets intersect or share common elements. Venn diagrams are commonly used to illustrate concepts in set theory, logic, and statistics."
      ],
      "metadata": {
        "id": "Y_wz2PR_4lAF"
      }
    },
    {
      "cell_type": "markdown",
      "source": [
        "**Q7. For the two given sets A = (2,3,4,5,6,7) & B = (0,2,6,8,10). Find:\n",
        "(i) A∩B\n",
        "(ii) A ⋃ B**"
      ],
      "metadata": {
        "id": "81P1H09B3p3b"
      }
    },
    {
      "cell_type": "markdown",
      "source": [
        "**Ans :**  \n",
        "A = (2,3,4,5,6,7)\n",
        "\n",
        "B = (0,2,6,8,10)\n",
        "\n",
        "A∩B = {2,6}\n",
        "\n",
        "A⋃B = {0,2,3,4,5,6,7,8,10}"
      ],
      "metadata": {
        "id": "dhJzckO_4kOj"
      }
    },
    {
      "cell_type": "markdown",
      "source": [
        "**Q8. What do you understand about skewness in data?**"
      ],
      "metadata": {
        "id": "AeuGGHZf3pzp"
      }
    },
    {
      "cell_type": "markdown",
      "source": [
        "**Ans :** Skewness is a measure of the asymmetry in the distribution of data. It indicates whether the data is skewed to the left (negatively skewed), skewed to the right (positively skewed), or normally distributed (symmetrical). In a negatively skewed distribution, the tail on the left is longer, while in a positively skewed distribution, the tail on the right is longer."
      ],
      "metadata": {
        "id": "SYOjxboz4jzj"
      }
    },
    {
      "cell_type": "markdown",
      "source": [
        "**Q9. If a data is right skewed then what will be the position of median with respect to mean?**"
      ],
      "metadata": {
        "id": "ax8N65eo4Kk3"
      }
    },
    {
      "cell_type": "markdown",
      "source": [
        "**Ans :**  If a data is right skewed, then the median will be positioned to the left of the mean. The mean will be greater than the median.\n",
        "mean>= meadian>= mode"
      ],
      "metadata": {
        "id": "fb80-CKg4jPI"
      }
    },
    {
      "cell_type": "markdown",
      "source": [
        "**Q10. Explain the difference between covariance and correlation. How are these measures used in\n",
        "statistical analysis?**"
      ],
      "metadata": {
        "id": "DwLGkY0B4LlC"
      }
    },
    {
      "cell_type": "markdown",
      "source": [
        "**Ans :**\n",
        "\n",
        "**Covariance:** Covariance measures the degree to which two variables change together. A positive covariance indicates a direct relationship, while negative covariance indicates an inverse relationship. The magnitude of covariance depends on the scales of the variables and is difficult to interpret on its own.\n",
        "\n",
        "**Correlation:** Correlation standardizes the covariance to a scale between -1 and 1, making it easier to interpret. A correlation of 1 indicates a perfect positive relationship, -1 indicates a perfect negative relationship, and 0 indicates no linear relationship. Correlation measures the strength and direction of the linear relationship between two variables.\n",
        "\n",
        "Both covariance and correlation are used to assess the association between variables in statistical analysis."
      ],
      "metadata": {
        "id": "NcdtnOFe4iu3"
      }
    },
    {
      "cell_type": "markdown",
      "source": [
        "**Q11. What is the formula for calculating the sample mean? Provide an example calculation for a\n",
        "dataset.**"
      ],
      "metadata": {
        "id": "xdzk7hVK4LWA"
      }
    },
    {
      "cell_type": "markdown",
      "source": [
        "**Ans :** The formula for calculating the sample mean (x̄) is:\n",
        "x̄ = (Σx) / n\n",
        "\n",
        "Where:\n",
        "x̄ = sample mean\n",
        "Σx = sum of all individual data points\n",
        "n = number of data points in the sample\n",
        "\n",
        "Example: Calculate the sample mean for the dataset [10, 15, 20, 25, 30]:\n",
        "x̄ = (10 + 15 + 20 + 25 + 30) / 5 = 100 / 5 = 20\n",
        "\n",
        "The sample mean for this dataset is 20."
      ],
      "metadata": {
        "id": "O2EPOKPR4hSf"
      }
    },
    {
      "cell_type": "code",
      "source": [
        "#using numpy\n",
        "import numpy as np\n",
        "X = [10, 15, 20, 25, 30]\n",
        "mean = np.mean(X)\n"
      ],
      "metadata": {
        "id": "Ds7CK_0JXQa2"
      },
      "execution_count": null,
      "outputs": []
    },
    {
      "cell_type": "markdown",
      "source": [
        "**Q12. For a normal distribution data what is the relationship between its measure of central tendency?**"
      ],
      "metadata": {
        "id": "RmwuYQ2H4VV0"
      }
    },
    {
      "cell_type": "markdown",
      "source": [
        "**Ans :** For a normal distribution data, the relationship between its measures of central tendency is as follows:\n",
        "\n",
        "1. The mean (μ) is equal to the median.\n",
        "\n",
        "2. The mode is also equal to the mean and median.\n",
        "\n",
        "2. A normal distribution is symmetric, so all these measures coincide at the center of the distribution."
      ],
      "metadata": {
        "id": "hJKl_SC4Xqjz"
      }
    },
    {
      "cell_type": "markdown",
      "source": [
        "**Q13. How is covariance different from correlation?**"
      ],
      "metadata": {
        "id": "KeuduR784Voh"
      }
    },
    {
      "cell_type": "markdown",
      "source": [
        "**Ans :** Covariance and correlation are both measures of the relationship between two variables, but they differ in important ways:\n",
        "\n",
        "Covariance is a measure of the degree and direction of the linear relationship between two variables. However, it does not provide a standardized scale, and its value depends on the units of the variables. Therefore, covariance alone is challenging to interpret.\n",
        "Correlation, on the other hand, is a standardized measure that provides a scale between -1 and 1, making it easier to interpret. A correlation of 1 indicates a perfect positive relationship, -1 indicates a perfect negative relationship, and 0 indicates no linear relationship. Correlation is unitless and provides a consistent way to assess the strength and direction of the relationship between two variables."
      ],
      "metadata": {
        "id": "UR_DnHAk4god"
      }
    },
    {
      "cell_type": "markdown",
      "source": [
        "**Q14. How do outliers affect measures of central tendency and dispersion? Provide an example.**"
      ],
      "metadata": {
        "id": "JWv7aEP34LSC"
      }
    },
    {
      "cell_type": "markdown",
      "source": [
        "**Ans :**\n",
        "\n",
        "Outliers are extreme data points that deviate significantly from the rest of the dataset. They can have a substantial impact on measures of central tendency and dispersion:\n",
        "\n",
        "**Measures of Central Tendency:** Outliers can pull the mean in the direction of the extreme values. For example, if you have a dataset of incomes, and one person reports an exceptionally high income, the mean income will be skewed upward.\n",
        "\n",
        "**Measures of Dispersion:** Outliers can increase measures of dispersion like range, variance, and standard deviation, as they introduce additional variability. For example, in a dataset of test scores, an outlier with an extremely low score can inflate the variance and standard deviation."
      ],
      "metadata": {
        "id": "qgAd4bNK4fFZ"
      }
    },
    {
      "cell_type": "code",
      "source": [],
      "metadata": {
        "id": "YS9AHi1CY3Ts"
      },
      "execution_count": null,
      "outputs": []
    }
  ]
}