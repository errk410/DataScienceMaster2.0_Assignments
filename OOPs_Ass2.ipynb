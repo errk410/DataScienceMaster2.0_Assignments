{
  "nbformat": 4,
  "nbformat_minor": 0,
  "metadata": {
    "colab": {
      "provenance": []
    },
    "kernelspec": {
      "name": "python3",
      "display_name": "Python 3"
    },
    "language_info": {
      "name": "python"
    }
  },
  "cells": [
    {
      "cell_type": "markdown",
      "source": [
        "**Q1. What is Abstraction in OOps? Explain with an example.**"
      ],
      "metadata": {
        "id": "tpABC8A67VHE"
      }
    },
    {
      "cell_type": "markdown",
      "source": [
        "**Ans:** **Abstraction** is one of the four fundamental principles of Object-Oriented Programming (OOP). It refers to the concept of simplifying complex systems by modeling classes based on the essential properties and behaviors while hiding the unnecessary details. Abstraction allows us to create abstract classes or interfaces that define a set of methods without specifying their implementation. It provides a high-level view of an object's functionality."
      ],
      "metadata": {
        "id": "lpwNIaFo7n9a"
      }
    },
    {
      "cell_type": "code",
      "source": [
        "import abc\n",
        "class pwskills:\n",
        "\n",
        "    @abc.abstractmethod\n",
        "    def students_detials(self):\n",
        "        pass\n",
        "\n",
        "    @abc.abstractmethod\n",
        "    def student_assignemnt(self):\n",
        "        pass\n",
        "\n",
        "    @abc.abstractmethod\n",
        "    def student_marks(self):\n",
        "        pass"
      ],
      "metadata": {
        "id": "w0jAT4cC7z7Z"
      },
      "execution_count": 1,
      "outputs": []
    },
    {
      "cell_type": "markdown",
      "source": [
        "**Q2. Differentiate between Abstraction and Encapsulation. Explain with an example.**"
      ],
      "metadata": {
        "id": "wS_fUpgA70Z_"
      }
    },
    {
      "cell_type": "markdown",
      "source": [
        "**Abstraction:**\n",
        "\n",
        "1. Abstraction focuses on showing only the necessary features of an object while hiding the unnecessary details.\n",
        "\n",
        "2. It is achieved through abstract classes or interfaces.\n",
        "\n",
        "3. Abstraction defines what an object does without specifying how it does it.\n",
        "\n",
        "4. It provides a high-level view of an object's behavior.\n",
        "\n",
        "**Example:** Defining abstract methods like area() in a Shape class without specifying their implementations.\n",
        "\n",
        "**Encapsulation:**\n",
        "\n",
        "1. Encapsulation focuses on bundling data (attributes) and methods (functions) that operate on that data into a single unit (class).\n",
        "\n",
        "2. It is achieved through classes and access modifiers (e.g., private and public).\n",
        "\n",
        "3. Encapsulation defines both the what and the how of an object's behavior by controlling access to its attributes and methods.\n",
        "\n",
        "4. It restricts direct access to an object's internal state.\n",
        "\n",
        "**Example:** Using private attributes like _salary and providing getter and setter methods in a Employee class."
      ],
      "metadata": {
        "id": "1dmTDE2a77A0"
      }
    },
    {
      "cell_type": "markdown",
      "source": [
        "**Q3. What is abc module in python? Why is it used?**"
      ],
      "metadata": {
        "id": "YvT5GOnq77u5"
      }
    },
    {
      "cell_type": "markdown",
      "source": [
        "**Ans :** The **abc** module in Python stands for **\"Abstract Base Classes.\"** It provides tools for defining abstract base classes and abstract methods. Abstract base classes are used to define a common interface that must be implemented by concrete subclasses. The primary purpose of the abc module is to enforce certain methods to be implemented in derived classes, promoting code consistency and providing clear class hierarchies.\n",
        "\n",
        "It is used with the ABC metaclass and the @abstractmethod decorator to define abstract methods and classes."
      ],
      "metadata": {
        "id": "SwgTW2ob7_v9"
      }
    },
    {
      "cell_type": "markdown",
      "source": [
        "**Q4. How can we achieve data abstraction?**"
      ],
      "metadata": {
        "id": "KruHVsrq8BJy"
      }
    },
    {
      "cell_type": "markdown",
      "source": [
        "**Ans:** **Data abstraction** can be achieved in OOP by following these practices:\n",
        "\n",
        "1. Define abstract classes or interfaces that declare a set of methods without providing implementations.\n",
        "\n",
        "2. Implement concrete subclasses that inherit from the abstract class or interface and provide specific implementations for the abstract methods.\n",
        "\n",
        "3. Access data members through getter and setter methods, controlling access to the underlying data.\n",
        "\n",
        "4. Use access modifiers (e.g., private, protected) to restrict direct access to data members."
      ],
      "metadata": {
        "id": "4vMkmc3P8Gfo"
      }
    },
    {
      "cell_type": "markdown",
      "source": [
        "**Q5. Can we create an instance of an abstract class? Explain your answer.**\n"
      ],
      "metadata": {
        "id": "VLQJ8Xaz8HUj"
      }
    },
    {
      "cell_type": "markdown",
      "source": [
        "**Ans:** No, we cannot create an instance of an abstract class in Python. Attempting to create an instance of an abstract class will result in a TypeError. Abstract classes are meant to be used as templates or blueprints for concrete subclasses. They define a common interface with abstract methods that must be implemented by subclasses."
      ],
      "metadata": {
        "id": "SghIlULqEFQb"
      }
    },
    {
      "cell_type": "code",
      "source": [
        "from abc import ABC, abstractmethod\n",
        "\n",
        "class AbstractClass(ABC):\n",
        "    @abstractmethod\n",
        "    def abstract_method(self):\n",
        "        pass\n",
        "\n",
        "\n"
      ],
      "metadata": {
        "id": "aCcPkBEQ8Kh3"
      },
      "execution_count": 2,
      "outputs": []
    },
    {
      "cell_type": "code",
      "source": [
        "obj = AbstractClass(ABC)()"
      ],
      "metadata": {
        "colab": {
          "base_uri": "https://localhost:8080/",
          "height": 175
        },
        "id": "a3XeAjbtEQ6W",
        "outputId": "60762fcc-a7e3-4aff-9a71-032f1d9c92a0"
      },
      "execution_count": 3,
      "outputs": [
        {
          "output_type": "error",
          "ename": "TypeError",
          "evalue": "ignored",
          "traceback": [
            "\u001b[0;31m---------------------------------------------------------------------------\u001b[0m",
            "\u001b[0;31mTypeError\u001b[0m                                 Traceback (most recent call last)",
            "\u001b[0;32m<ipython-input-3-4c4309551236>\u001b[0m in \u001b[0;36m<cell line: 1>\u001b[0;34m()\u001b[0m\n\u001b[0;32m----> 1\u001b[0;31m \u001b[0mobj\u001b[0m \u001b[0;34m=\u001b[0m \u001b[0mAbstractClass\u001b[0m\u001b[0;34m(\u001b[0m\u001b[0mABC\u001b[0m\u001b[0;34m)\u001b[0m\u001b[0;34m(\u001b[0m\u001b[0;34m)\u001b[0m\u001b[0;34m\u001b[0m\u001b[0;34m\u001b[0m\u001b[0m\n\u001b[0m",
            "\u001b[0;31mTypeError\u001b[0m: AbstractClass() takes no arguments"
          ]
        }
      ]
    }
  ]
}